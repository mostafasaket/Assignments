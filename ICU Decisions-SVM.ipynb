{
 "cells": [
  {
   "cell_type": "code",
   "execution_count": 160,
   "id": "c7310552",
   "metadata": {},
   "outputs": [],
   "source": [
    "import pandas as pd\n",
    "import pylab as pl\n",
    "import numpy as np\n",
    "import scipy.optimize as opt\n",
    "%matplotlib inline \n",
    "import matplotlib.pyplot as plt\n",
    "import missingno as msno"
   ]
  },
  {
   "cell_type": "code",
   "execution_count": 161,
   "id": "1984ea3f",
   "metadata": {},
   "outputs": [],
   "source": [
    "admission = pd.read_csv(\"admission.csv\")\n",
    "age = pd.read_csv(\"age.csv\")\n",
    "signal = pd.read_csv(\"signal.csv\")"
   ]
  },
  {
   "cell_type": "code",
   "execution_count": 162,
   "id": "be0f0849",
   "metadata": {},
   "outputs": [
    {
     "name": "stdout",
     "output_type": "stream",
     "text": [
      "  ;pat_id;date_admission;date_discharge\n",
      "0     19292;1081;14/05/2014;16/05/2014;\n",
      "1     19293;1304;13/06/2014;14/06/2014;\n",
      "2     19295;1101;14/05/2014;17/05/2014;\n",
      "3      19298;895;24/06/2014;25/06/2014;\n",
      "4     19299;1468;24/07/2014;25/07/2014;\n",
      "  ;pat_id;age\n",
      "0   0;0;35.0;\n",
      "1   1;1;77.0;\n",
      "2   2;2;77.0;\n",
      "3   3;3;61.0;\n",
      "4   4;4;27.0;\n",
      "         ;Unnamed: 0;pat_id;day;hour;parameter;value\n",
      "0  0;0;0;2016-01-05;23;blood_pressure;104.5431807...\n",
      "1  1;1;0;2016-01-06;0;blood_pressure;110.54254403...\n",
      "2  2;2;0;2016-01-06;1;blood_pressure;133.83200198...\n",
      "3  3;3;0;2016-01-06;2;blood_pressure;133.06766595...\n",
      "4  4;4;0;2016-01-06;3;blood_pressure;134.56600320...\n"
     ]
    }
   ],
   "source": [
    "print(admission.head())\n",
    "print(age.head())\n",
    "print(signal.head())"
   ]
  },
  {
   "cell_type": "code",
   "execution_count": 163,
   "id": "c2be1010",
   "metadata": {},
   "outputs": [
    {
     "data": {
      "text/plain": [
       "(1495, 1)"
      ]
     },
     "execution_count": 163,
     "metadata": {},
     "output_type": "execute_result"
    }
   ],
   "source": [
    "age.shape"
   ]
  },
  {
   "cell_type": "code",
   "execution_count": 164,
   "id": "8b771170",
   "metadata": {},
   "outputs": [
    {
     "data": {
      "text/plain": [
       "(99914, 1)"
      ]
     },
     "execution_count": 164,
     "metadata": {},
     "output_type": "execute_result"
    }
   ],
   "source": [
    "signal.shape"
   ]
  },
  {
   "cell_type": "code",
   "execution_count": 165,
   "id": "673e162a",
   "metadata": {},
   "outputs": [
    {
     "data": {
      "text/plain": [
       "(1569, 1)"
      ]
     },
     "execution_count": 165,
     "metadata": {},
     "output_type": "execute_result"
    }
   ],
   "source": [
    "admission.shape"
   ]
  },
  {
   "cell_type": "markdown",
   "id": "65574fe2",
   "metadata": {},
   "source": [
    "# Data Cleansing Phaze"
   ]
  },
  {
   "cell_type": "code",
   "execution_count": 166,
   "id": "50e95d37",
   "metadata": {},
   "outputs": [],
   "source": [
    "admission = admission[';pat_id;date_admission;date_discharge'].str.split(';', expand=True)\n",
    "age = age [\";pat_id;age\"].str.split(\";\", expand=True)\n",
    "signal = signal[\";Unnamed: 0;pat_id;day;hour;parameter;value\"].str.split(\";\", expand = True)"
   ]
  },
  {
   "cell_type": "code",
   "execution_count": 167,
   "id": "292ff671",
   "metadata": {},
   "outputs": [
    {
     "data": {
      "text/html": [
       "<div>\n",
       "<style scoped>\n",
       "    .dataframe tbody tr th:only-of-type {\n",
       "        vertical-align: middle;\n",
       "    }\n",
       "\n",
       "    .dataframe tbody tr th {\n",
       "        vertical-align: top;\n",
       "    }\n",
       "\n",
       "    .dataframe thead th {\n",
       "        text-align: right;\n",
       "    }\n",
       "</style>\n",
       "<table border=\"1\" class=\"dataframe\">\n",
       "  <thead>\n",
       "    <tr style=\"text-align: right;\">\n",
       "      <th></th>\n",
       "      <th>0</th>\n",
       "      <th>1</th>\n",
       "      <th>2</th>\n",
       "      <th>3</th>\n",
       "      <th>4</th>\n",
       "    </tr>\n",
       "  </thead>\n",
       "  <tbody>\n",
       "    <tr>\n",
       "      <th>0</th>\n",
       "      <td>19292</td>\n",
       "      <td>1081</td>\n",
       "      <td>14/05/2014</td>\n",
       "      <td>16/05/2014</td>\n",
       "      <td></td>\n",
       "    </tr>\n",
       "    <tr>\n",
       "      <th>1</th>\n",
       "      <td>19293</td>\n",
       "      <td>1304</td>\n",
       "      <td>13/06/2014</td>\n",
       "      <td>14/06/2014</td>\n",
       "      <td></td>\n",
       "    </tr>\n",
       "    <tr>\n",
       "      <th>2</th>\n",
       "      <td>19295</td>\n",
       "      <td>1101</td>\n",
       "      <td>14/05/2014</td>\n",
       "      <td>17/05/2014</td>\n",
       "      <td></td>\n",
       "    </tr>\n",
       "    <tr>\n",
       "      <th>3</th>\n",
       "      <td>19298</td>\n",
       "      <td>895</td>\n",
       "      <td>24/06/2014</td>\n",
       "      <td>25/06/2014</td>\n",
       "      <td></td>\n",
       "    </tr>\n",
       "    <tr>\n",
       "      <th>4</th>\n",
       "      <td>19299</td>\n",
       "      <td>1468</td>\n",
       "      <td>24/07/2014</td>\n",
       "      <td>25/07/2014</td>\n",
       "      <td></td>\n",
       "    </tr>\n",
       "  </tbody>\n",
       "</table>\n",
       "</div>"
      ],
      "text/plain": [
       "       0     1           2           3 4\n",
       "0  19292  1081  14/05/2014  16/05/2014  \n",
       "1  19293  1304  13/06/2014  14/06/2014  \n",
       "2  19295  1101  14/05/2014  17/05/2014  \n",
       "3  19298   895  24/06/2014  25/06/2014  \n",
       "4  19299  1468  24/07/2014  25/07/2014  "
      ]
     },
     "execution_count": 167,
     "metadata": {},
     "output_type": "execute_result"
    }
   ],
   "source": [
    "admission.head()"
   ]
  },
  {
   "cell_type": "code",
   "execution_count": 168,
   "id": "03bb9e56",
   "metadata": {},
   "outputs": [
    {
     "data": {
      "text/html": [
       "<div>\n",
       "<style scoped>\n",
       "    .dataframe tbody tr th:only-of-type {\n",
       "        vertical-align: middle;\n",
       "    }\n",
       "\n",
       "    .dataframe tbody tr th {\n",
       "        vertical-align: top;\n",
       "    }\n",
       "\n",
       "    .dataframe thead th {\n",
       "        text-align: right;\n",
       "    }\n",
       "</style>\n",
       "<table border=\"1\" class=\"dataframe\">\n",
       "  <thead>\n",
       "    <tr style=\"text-align: right;\">\n",
       "      <th></th>\n",
       "      <th>0</th>\n",
       "      <th>1</th>\n",
       "      <th>2</th>\n",
       "      <th>3</th>\n",
       "    </tr>\n",
       "  </thead>\n",
       "  <tbody>\n",
       "    <tr>\n",
       "      <th>0</th>\n",
       "      <td>0</td>\n",
       "      <td>0</td>\n",
       "      <td>35.0</td>\n",
       "      <td></td>\n",
       "    </tr>\n",
       "    <tr>\n",
       "      <th>1</th>\n",
       "      <td>1</td>\n",
       "      <td>1</td>\n",
       "      <td>77.0</td>\n",
       "      <td></td>\n",
       "    </tr>\n",
       "    <tr>\n",
       "      <th>2</th>\n",
       "      <td>2</td>\n",
       "      <td>2</td>\n",
       "      <td>77.0</td>\n",
       "      <td></td>\n",
       "    </tr>\n",
       "    <tr>\n",
       "      <th>3</th>\n",
       "      <td>3</td>\n",
       "      <td>3</td>\n",
       "      <td>61.0</td>\n",
       "      <td></td>\n",
       "    </tr>\n",
       "    <tr>\n",
       "      <th>4</th>\n",
       "      <td>4</td>\n",
       "      <td>4</td>\n",
       "      <td>27.0</td>\n",
       "      <td></td>\n",
       "    </tr>\n",
       "  </tbody>\n",
       "</table>\n",
       "</div>"
      ],
      "text/plain": [
       "   0  1     2 3\n",
       "0  0  0  35.0  \n",
       "1  1  1  77.0  \n",
       "2  2  2  77.0  \n",
       "3  3  3  61.0  \n",
       "4  4  4  27.0  "
      ]
     },
     "execution_count": 168,
     "metadata": {},
     "output_type": "execute_result"
    }
   ],
   "source": [
    "age.head()"
   ]
  },
  {
   "cell_type": "code",
   "execution_count": 169,
   "id": "104d578e",
   "metadata": {},
   "outputs": [
    {
     "data": {
      "text/html": [
       "<div>\n",
       "<style scoped>\n",
       "    .dataframe tbody tr th:only-of-type {\n",
       "        vertical-align: middle;\n",
       "    }\n",
       "\n",
       "    .dataframe tbody tr th {\n",
       "        vertical-align: top;\n",
       "    }\n",
       "\n",
       "    .dataframe thead th {\n",
       "        text-align: right;\n",
       "    }\n",
       "</style>\n",
       "<table border=\"1\" class=\"dataframe\">\n",
       "  <thead>\n",
       "    <tr style=\"text-align: right;\">\n",
       "      <th></th>\n",
       "      <th>0</th>\n",
       "      <th>1</th>\n",
       "      <th>2</th>\n",
       "      <th>3</th>\n",
       "      <th>4</th>\n",
       "      <th>5</th>\n",
       "      <th>6</th>\n",
       "    </tr>\n",
       "  </thead>\n",
       "  <tbody>\n",
       "    <tr>\n",
       "      <th>0</th>\n",
       "      <td>0</td>\n",
       "      <td>0</td>\n",
       "      <td>0</td>\n",
       "      <td>2016-01-05</td>\n",
       "      <td>23</td>\n",
       "      <td>blood_pressure</td>\n",
       "      <td>104.54318079537045</td>\n",
       "    </tr>\n",
       "    <tr>\n",
       "      <th>1</th>\n",
       "      <td>1</td>\n",
       "      <td>1</td>\n",
       "      <td>0</td>\n",
       "      <td>2016-01-06</td>\n",
       "      <td>0</td>\n",
       "      <td>blood_pressure</td>\n",
       "      <td>110.54254403318735</td>\n",
       "    </tr>\n",
       "    <tr>\n",
       "      <th>2</th>\n",
       "      <td>2</td>\n",
       "      <td>2</td>\n",
       "      <td>0</td>\n",
       "      <td>2016-01-06</td>\n",
       "      <td>1</td>\n",
       "      <td>blood_pressure</td>\n",
       "      <td>133.8320019876634</td>\n",
       "    </tr>\n",
       "    <tr>\n",
       "      <th>3</th>\n",
       "      <td>3</td>\n",
       "      <td>3</td>\n",
       "      <td>0</td>\n",
       "      <td>2016-01-06</td>\n",
       "      <td>2</td>\n",
       "      <td>blood_pressure</td>\n",
       "      <td>133.06766595660827</td>\n",
       "    </tr>\n",
       "    <tr>\n",
       "      <th>4</th>\n",
       "      <td>4</td>\n",
       "      <td>4</td>\n",
       "      <td>0</td>\n",
       "      <td>2016-01-06</td>\n",
       "      <td>3</td>\n",
       "      <td>blood_pressure</td>\n",
       "      <td>134.56600320276337</td>\n",
       "    </tr>\n",
       "  </tbody>\n",
       "</table>\n",
       "</div>"
      ],
      "text/plain": [
       "   0  1  2           3   4               5                   6\n",
       "0  0  0  0  2016-01-05  23  blood_pressure  104.54318079537045\n",
       "1  1  1  0  2016-01-06   0  blood_pressure  110.54254403318735\n",
       "2  2  2  0  2016-01-06   1  blood_pressure   133.8320019876634\n",
       "3  3  3  0  2016-01-06   2  blood_pressure  133.06766595660827\n",
       "4  4  4  0  2016-01-06   3  blood_pressure  134.56600320276337"
      ]
     },
     "execution_count": 169,
     "metadata": {},
     "output_type": "execute_result"
    }
   ],
   "source": [
    "signal.head()"
   ]
  },
  {
   "cell_type": "markdown",
   "id": "87e24fa8",
   "metadata": {},
   "source": [
    "## Specification Columns to the Data"
   ]
  },
  {
   "cell_type": "code",
   "execution_count": 170,
   "id": "f6940eab",
   "metadata": {},
   "outputs": [],
   "source": [
    "admission.columns = [\"NONE\", \"pat_id\", \"date_admission\", \"date_discharge\", \"NONE\"]\n",
    "age.columns = [\"NONE\", \"pat_id\", \"age\", \"NONE\"]\n",
    "signal.columns = [\"NONE\", \"NONE\", \"pat_id\", \"day\" , \"hour\", \"parameter\" , \"value\"]"
   ]
  },
  {
   "cell_type": "code",
   "execution_count": 171,
   "id": "3a515d44",
   "metadata": {},
   "outputs": [],
   "source": [
    "admission = admission.drop(columns=[\"NONE\" , \"NONE\"], axis = 1)\n",
    "age = age.drop(columns=['NONE',\"NONE\"], axis = 1)\n",
    "signal = signal.drop(columns= [\"NONE\" , \"NONE\"] , axis = 1)"
   ]
  },
  {
   "cell_type": "code",
   "execution_count": 172,
   "id": "9fcc6551",
   "metadata": {},
   "outputs": [
    {
     "data": {
      "text/html": [
       "<div>\n",
       "<style scoped>\n",
       "    .dataframe tbody tr th:only-of-type {\n",
       "        vertical-align: middle;\n",
       "    }\n",
       "\n",
       "    .dataframe tbody tr th {\n",
       "        vertical-align: top;\n",
       "    }\n",
       "\n",
       "    .dataframe thead th {\n",
       "        text-align: right;\n",
       "    }\n",
       "</style>\n",
       "<table border=\"1\" class=\"dataframe\">\n",
       "  <thead>\n",
       "    <tr style=\"text-align: right;\">\n",
       "      <th></th>\n",
       "      <th>pat_id</th>\n",
       "      <th>date_admission</th>\n",
       "      <th>date_discharge</th>\n",
       "    </tr>\n",
       "  </thead>\n",
       "  <tbody>\n",
       "    <tr>\n",
       "      <th>0</th>\n",
       "      <td>1081</td>\n",
       "      <td>14/05/2014</td>\n",
       "      <td>16/05/2014</td>\n",
       "    </tr>\n",
       "    <tr>\n",
       "      <th>1</th>\n",
       "      <td>1304</td>\n",
       "      <td>13/06/2014</td>\n",
       "      <td>14/06/2014</td>\n",
       "    </tr>\n",
       "    <tr>\n",
       "      <th>2</th>\n",
       "      <td>1101</td>\n",
       "      <td>14/05/2014</td>\n",
       "      <td>17/05/2014</td>\n",
       "    </tr>\n",
       "    <tr>\n",
       "      <th>3</th>\n",
       "      <td>895</td>\n",
       "      <td>24/06/2014</td>\n",
       "      <td>25/06/2014</td>\n",
       "    </tr>\n",
       "    <tr>\n",
       "      <th>4</th>\n",
       "      <td>1468</td>\n",
       "      <td>24/07/2014</td>\n",
       "      <td>25/07/2014</td>\n",
       "    </tr>\n",
       "  </tbody>\n",
       "</table>\n",
       "</div>"
      ],
      "text/plain": [
       "  pat_id date_admission date_discharge\n",
       "0   1081     14/05/2014     16/05/2014\n",
       "1   1304     13/06/2014     14/06/2014\n",
       "2   1101     14/05/2014     17/05/2014\n",
       "3    895     24/06/2014     25/06/2014\n",
       "4   1468     24/07/2014     25/07/2014"
      ]
     },
     "execution_count": 172,
     "metadata": {},
     "output_type": "execute_result"
    }
   ],
   "source": [
    "admission.head()"
   ]
  },
  {
   "cell_type": "code",
   "execution_count": 173,
   "id": "c3f88bd5",
   "metadata": {},
   "outputs": [
    {
     "data": {
      "text/plain": [
       "pat_id            object\n",
       "date_admission    object\n",
       "date_discharge    object\n",
       "dtype: object"
      ]
     },
     "execution_count": 173,
     "metadata": {},
     "output_type": "execute_result"
    }
   ],
   "source": [
    "admission.dtypes"
   ]
  },
  {
   "cell_type": "code",
   "execution_count": 174,
   "id": "6a70bc7b",
   "metadata": {},
   "outputs": [],
   "source": [
    "admission[\"pat_id\"] = pd.to_numeric(admission[\"pat_id\"], downcast=\"integer\")"
   ]
  },
  {
   "cell_type": "code",
   "execution_count": 175,
   "id": "e46b2bd1",
   "metadata": {},
   "outputs": [
    {
     "data": {
      "text/plain": [
       "pat_id             int16\n",
       "date_admission    object\n",
       "date_discharge    object\n",
       "dtype: object"
      ]
     },
     "execution_count": 175,
     "metadata": {},
     "output_type": "execute_result"
    }
   ],
   "source": [
    "admission.dtypes"
   ]
  },
  {
   "cell_type": "code",
   "execution_count": 176,
   "id": "70047dd7",
   "metadata": {},
   "outputs": [
    {
     "data": {
      "text/plain": [
       "pat_id    object\n",
       "age       object\n",
       "dtype: object"
      ]
     },
     "execution_count": 176,
     "metadata": {},
     "output_type": "execute_result"
    }
   ],
   "source": [
    "age.dtypes"
   ]
  },
  {
   "cell_type": "code",
   "execution_count": 177,
   "id": "47c7804c",
   "metadata": {},
   "outputs": [
    {
     "data": {
      "text/plain": [
       "pat_id    int16\n",
       "age        int8\n",
       "dtype: object"
      ]
     },
     "execution_count": 177,
     "metadata": {},
     "output_type": "execute_result"
    }
   ],
   "source": [
    "age[\"pat_id\"] = pd.to_numeric(age[\"pat_id\"], downcast=\"integer\")\n",
    "age[\"age\"] = pd.to_numeric(age[\"age\"], downcast=\"integer\")\n",
    "age.dtypes"
   ]
  },
  {
   "cell_type": "code",
   "execution_count": 178,
   "id": "9bf5a6d6",
   "metadata": {},
   "outputs": [
    {
     "data": {
      "text/plain": [
       "pat_id       object\n",
       "day          object\n",
       "hour         object\n",
       "parameter    object\n",
       "value        object\n",
       "dtype: object"
      ]
     },
     "execution_count": 178,
     "metadata": {},
     "output_type": "execute_result"
    }
   ],
   "source": [
    "signal.dtypes"
   ]
  },
  {
   "cell_type": "markdown",
   "id": "46aaef3e",
   "metadata": {},
   "source": [
    "### Chanding the \".dtype\" of the object to able to work with them"
   ]
  },
  {
   "cell_type": "code",
   "execution_count": 179,
   "id": "ae2ba269",
   "metadata": {},
   "outputs": [
    {
     "data": {
      "text/plain": [
       "pat_id         int16\n",
       "day           object\n",
       "hour            int8\n",
       "parameter     object\n",
       "value        float32\n",
       "dtype: object"
      ]
     },
     "execution_count": 179,
     "metadata": {},
     "output_type": "execute_result"
    }
   ],
   "source": [
    "signal[\"pat_id\"] = pd.to_numeric(signal[\"pat_id\"], downcast=\"integer\")\n",
    "signal[\"hour\"] = pd.to_numeric(signal[\"hour\"], downcast=\"integer\")\n",
    "signal[\"value\"] = pd.to_numeric(signal[\"value\"], downcast=\"float\")\n",
    "signal.dtypes"
   ]
  },
  {
   "cell_type": "code",
   "execution_count": 180,
   "id": "8f96c2a6",
   "metadata": {},
   "outputs": [
    {
     "data": {
      "text/html": [
       "<div>\n",
       "<style scoped>\n",
       "    .dataframe tbody tr th:only-of-type {\n",
       "        vertical-align: middle;\n",
       "    }\n",
       "\n",
       "    .dataframe tbody tr th {\n",
       "        vertical-align: top;\n",
       "    }\n",
       "\n",
       "    .dataframe thead th {\n",
       "        text-align: right;\n",
       "    }\n",
       "</style>\n",
       "<table border=\"1\" class=\"dataframe\">\n",
       "  <thead>\n",
       "    <tr style=\"text-align: right;\">\n",
       "      <th></th>\n",
       "      <th>pat_id</th>\n",
       "      <th>date_admission</th>\n",
       "      <th>date_discharge</th>\n",
       "    </tr>\n",
       "  </thead>\n",
       "  <tbody>\n",
       "    <tr>\n",
       "      <th>0</th>\n",
       "      <td>1081</td>\n",
       "      <td>14/05/2014</td>\n",
       "      <td>16/05/2014</td>\n",
       "    </tr>\n",
       "    <tr>\n",
       "      <th>1</th>\n",
       "      <td>1304</td>\n",
       "      <td>13/06/2014</td>\n",
       "      <td>14/06/2014</td>\n",
       "    </tr>\n",
       "    <tr>\n",
       "      <th>2</th>\n",
       "      <td>1101</td>\n",
       "      <td>14/05/2014</td>\n",
       "      <td>17/05/2014</td>\n",
       "    </tr>\n",
       "    <tr>\n",
       "      <th>3</th>\n",
       "      <td>895</td>\n",
       "      <td>24/06/2014</td>\n",
       "      <td>25/06/2014</td>\n",
       "    </tr>\n",
       "    <tr>\n",
       "      <th>4</th>\n",
       "      <td>1468</td>\n",
       "      <td>24/07/2014</td>\n",
       "      <td>25/07/2014</td>\n",
       "    </tr>\n",
       "    <tr>\n",
       "      <th>5</th>\n",
       "      <td>581</td>\n",
       "      <td>15/05/2014</td>\n",
       "      <td>16/05/2014</td>\n",
       "    </tr>\n",
       "    <tr>\n",
       "      <th>6</th>\n",
       "      <td>586</td>\n",
       "      <td>04/07/2014</td>\n",
       "      <td>05/07/2014</td>\n",
       "    </tr>\n",
       "    <tr>\n",
       "      <th>7</th>\n",
       "      <td>656</td>\n",
       "      <td>05/07/2014</td>\n",
       "      <td>06/07/2014</td>\n",
       "    </tr>\n",
       "    <tr>\n",
       "      <th>8</th>\n",
       "      <td>421</td>\n",
       "      <td>16/05/2014</td>\n",
       "      <td>17/05/2014</td>\n",
       "    </tr>\n",
       "    <tr>\n",
       "      <th>9</th>\n",
       "      <td>1306</td>\n",
       "      <td>06/07/2014</td>\n",
       "      <td>07/07/2014</td>\n",
       "    </tr>\n",
       "  </tbody>\n",
       "</table>\n",
       "</div>"
      ],
      "text/plain": [
       "   pat_id date_admission date_discharge\n",
       "0    1081     14/05/2014     16/05/2014\n",
       "1    1304     13/06/2014     14/06/2014\n",
       "2    1101     14/05/2014     17/05/2014\n",
       "3     895     24/06/2014     25/06/2014\n",
       "4    1468     24/07/2014     25/07/2014\n",
       "5     581     15/05/2014     16/05/2014\n",
       "6     586     04/07/2014     05/07/2014\n",
       "7     656     05/07/2014     06/07/2014\n",
       "8     421     16/05/2014     17/05/2014\n",
       "9    1306     06/07/2014     07/07/2014"
      ]
     },
     "execution_count": 180,
     "metadata": {},
     "output_type": "execute_result"
    }
   ],
   "source": [
    "admission.head(10)"
   ]
  },
  {
   "cell_type": "code",
   "execution_count": 181,
   "id": "76ffb71a",
   "metadata": {},
   "outputs": [
    {
     "data": {
      "text/html": [
       "<div>\n",
       "<style scoped>\n",
       "    .dataframe tbody tr th:only-of-type {\n",
       "        vertical-align: middle;\n",
       "    }\n",
       "\n",
       "    .dataframe tbody tr th {\n",
       "        vertical-align: top;\n",
       "    }\n",
       "\n",
       "    .dataframe thead th {\n",
       "        text-align: right;\n",
       "    }\n",
       "</style>\n",
       "<table border=\"1\" class=\"dataframe\">\n",
       "  <thead>\n",
       "    <tr style=\"text-align: right;\">\n",
       "      <th></th>\n",
       "      <th>pat_id</th>\n",
       "      <th>age</th>\n",
       "    </tr>\n",
       "  </thead>\n",
       "  <tbody>\n",
       "    <tr>\n",
       "      <th>0</th>\n",
       "      <td>0</td>\n",
       "      <td>35</td>\n",
       "    </tr>\n",
       "    <tr>\n",
       "      <th>1</th>\n",
       "      <td>1</td>\n",
       "      <td>77</td>\n",
       "    </tr>\n",
       "    <tr>\n",
       "      <th>2</th>\n",
       "      <td>2</td>\n",
       "      <td>77</td>\n",
       "    </tr>\n",
       "    <tr>\n",
       "      <th>3</th>\n",
       "      <td>3</td>\n",
       "      <td>61</td>\n",
       "    </tr>\n",
       "    <tr>\n",
       "      <th>4</th>\n",
       "      <td>4</td>\n",
       "      <td>27</td>\n",
       "    </tr>\n",
       "    <tr>\n",
       "      <th>5</th>\n",
       "      <td>5</td>\n",
       "      <td>67</td>\n",
       "    </tr>\n",
       "    <tr>\n",
       "      <th>6</th>\n",
       "      <td>6</td>\n",
       "      <td>38</td>\n",
       "    </tr>\n",
       "    <tr>\n",
       "      <th>7</th>\n",
       "      <td>7</td>\n",
       "      <td>84</td>\n",
       "    </tr>\n",
       "    <tr>\n",
       "      <th>8</th>\n",
       "      <td>8</td>\n",
       "      <td>71</td>\n",
       "    </tr>\n",
       "    <tr>\n",
       "      <th>9</th>\n",
       "      <td>9</td>\n",
       "      <td>60</td>\n",
       "    </tr>\n",
       "  </tbody>\n",
       "</table>\n",
       "</div>"
      ],
      "text/plain": [
       "   pat_id  age\n",
       "0       0   35\n",
       "1       1   77\n",
       "2       2   77\n",
       "3       3   61\n",
       "4       4   27\n",
       "5       5   67\n",
       "6       6   38\n",
       "7       7   84\n",
       "8       8   71\n",
       "9       9   60"
      ]
     },
     "execution_count": 181,
     "metadata": {},
     "output_type": "execute_result"
    }
   ],
   "source": [
    "age.head(10)"
   ]
  },
  {
   "cell_type": "code",
   "execution_count": 182,
   "id": "bc6cf89d",
   "metadata": {},
   "outputs": [],
   "source": [
    "#signal.head(10)\n",
    "signal[\"day\"] = pd.to_datetime(signal[\"day\"],  dayfirst=True)"
   ]
  },
  {
   "cell_type": "code",
   "execution_count": 183,
   "id": "2fcafdcb",
   "metadata": {},
   "outputs": [
    {
     "data": {
      "text/html": [
       "<div>\n",
       "<style scoped>\n",
       "    .dataframe tbody tr th:only-of-type {\n",
       "        vertical-align: middle;\n",
       "    }\n",
       "\n",
       "    .dataframe tbody tr th {\n",
       "        vertical-align: top;\n",
       "    }\n",
       "\n",
       "    .dataframe thead th {\n",
       "        text-align: right;\n",
       "    }\n",
       "</style>\n",
       "<table border=\"1\" class=\"dataframe\">\n",
       "  <thead>\n",
       "    <tr style=\"text-align: right;\">\n",
       "      <th></th>\n",
       "      <th>pat_id</th>\n",
       "      <th>day</th>\n",
       "      <th>hour</th>\n",
       "      <th>parameter</th>\n",
       "      <th>value</th>\n",
       "    </tr>\n",
       "  </thead>\n",
       "  <tbody>\n",
       "    <tr>\n",
       "      <th>0</th>\n",
       "      <td>0</td>\n",
       "      <td>2016-01-05</td>\n",
       "      <td>23</td>\n",
       "      <td>blood_pressure</td>\n",
       "      <td>104.543182</td>\n",
       "    </tr>\n",
       "    <tr>\n",
       "      <th>1</th>\n",
       "      <td>0</td>\n",
       "      <td>2016-01-06</td>\n",
       "      <td>0</td>\n",
       "      <td>blood_pressure</td>\n",
       "      <td>110.542542</td>\n",
       "    </tr>\n",
       "    <tr>\n",
       "      <th>2</th>\n",
       "      <td>0</td>\n",
       "      <td>2016-01-06</td>\n",
       "      <td>1</td>\n",
       "      <td>blood_pressure</td>\n",
       "      <td>133.832001</td>\n",
       "    </tr>\n",
       "    <tr>\n",
       "      <th>3</th>\n",
       "      <td>0</td>\n",
       "      <td>2016-01-06</td>\n",
       "      <td>2</td>\n",
       "      <td>blood_pressure</td>\n",
       "      <td>133.067673</td>\n",
       "    </tr>\n",
       "    <tr>\n",
       "      <th>4</th>\n",
       "      <td>0</td>\n",
       "      <td>2016-01-06</td>\n",
       "      <td>3</td>\n",
       "      <td>blood_pressure</td>\n",
       "      <td>134.566010</td>\n",
       "    </tr>\n",
       "  </tbody>\n",
       "</table>\n",
       "</div>"
      ],
      "text/plain": [
       "   pat_id        day  hour       parameter       value\n",
       "0       0 2016-01-05    23  blood_pressure  104.543182\n",
       "1       0 2016-01-06     0  blood_pressure  110.542542\n",
       "2       0 2016-01-06     1  blood_pressure  133.832001\n",
       "3       0 2016-01-06     2  blood_pressure  133.067673\n",
       "4       0 2016-01-06     3  blood_pressure  134.566010"
      ]
     },
     "execution_count": 183,
     "metadata": {},
     "output_type": "execute_result"
    }
   ],
   "source": [
    "signal.head()"
   ]
  },
  {
   "cell_type": "code",
   "execution_count": 184,
   "id": "5ff1751a",
   "metadata": {},
   "outputs": [
    {
     "name": "stdout",
     "output_type": "stream",
     "text": [
      "<class 'pandas.core.frame.DataFrame'>\n",
      "RangeIndex: 99914 entries, 0 to 99913\n",
      "Data columns (total 5 columns):\n",
      " #   Column     Non-Null Count  Dtype         \n",
      "---  ------     --------------  -----         \n",
      " 0   pat_id     99914 non-null  int16         \n",
      " 1   day        99914 non-null  datetime64[ns]\n",
      " 2   hour       99914 non-null  int8          \n",
      " 3   parameter  99914 non-null  object        \n",
      " 4   value      99914 non-null  float32       \n",
      "dtypes: datetime64[ns](1), float32(1), int16(1), int8(1), object(1)\n",
      "memory usage: 2.2+ MB\n"
     ]
    }
   ],
   "source": [
    "signal.info()"
   ]
  },
  {
   "cell_type": "markdown",
   "id": "8b9dbe1a",
   "metadata": {},
   "source": [
    "### To see how many parameter exist in the \"parameter\" "
   ]
  },
  {
   "cell_type": "code",
   "execution_count": 185,
   "id": "0372c9f8",
   "metadata": {},
   "outputs": [
    {
     "data": {
      "text/plain": [
       "array(['blood_pressure', 'respiration_rate', 'temperature'], dtype=object)"
      ]
     },
     "execution_count": 185,
     "metadata": {},
     "output_type": "execute_result"
    }
   ],
   "source": [
    "signal[\"parameter\"].unique()"
   ]
  },
  {
   "cell_type": "markdown",
   "id": "ad4920b6",
   "metadata": {},
   "source": [
    "### To divide different parameters through get_dummies"
   ]
  },
  {
   "cell_type": "code",
   "execution_count": 186,
   "id": "f97ac510",
   "metadata": {},
   "outputs": [],
   "source": [
    "signal = pd.get_dummies(signal, columns = ['parameter'])"
   ]
  },
  {
   "cell_type": "code",
   "execution_count": 187,
   "id": "6cee123f",
   "metadata": {},
   "outputs": [
    {
     "data": {
      "text/html": [
       "<div>\n",
       "<style scoped>\n",
       "    .dataframe tbody tr th:only-of-type {\n",
       "        vertical-align: middle;\n",
       "    }\n",
       "\n",
       "    .dataframe tbody tr th {\n",
       "        vertical-align: top;\n",
       "    }\n",
       "\n",
       "    .dataframe thead th {\n",
       "        text-align: right;\n",
       "    }\n",
       "</style>\n",
       "<table border=\"1\" class=\"dataframe\">\n",
       "  <thead>\n",
       "    <tr style=\"text-align: right;\">\n",
       "      <th></th>\n",
       "      <th>pat_id</th>\n",
       "      <th>day</th>\n",
       "      <th>hour</th>\n",
       "      <th>value</th>\n",
       "      <th>parameter_blood_pressure</th>\n",
       "      <th>parameter_respiration_rate</th>\n",
       "      <th>parameter_temperature</th>\n",
       "    </tr>\n",
       "  </thead>\n",
       "  <tbody>\n",
       "    <tr>\n",
       "      <th>0</th>\n",
       "      <td>0</td>\n",
       "      <td>2016-01-05</td>\n",
       "      <td>23</td>\n",
       "      <td>104.543182</td>\n",
       "      <td>1</td>\n",
       "      <td>0</td>\n",
       "      <td>0</td>\n",
       "    </tr>\n",
       "    <tr>\n",
       "      <th>1</th>\n",
       "      <td>0</td>\n",
       "      <td>2016-01-06</td>\n",
       "      <td>0</td>\n",
       "      <td>110.542542</td>\n",
       "      <td>1</td>\n",
       "      <td>0</td>\n",
       "      <td>0</td>\n",
       "    </tr>\n",
       "    <tr>\n",
       "      <th>2</th>\n",
       "      <td>0</td>\n",
       "      <td>2016-01-06</td>\n",
       "      <td>1</td>\n",
       "      <td>133.832001</td>\n",
       "      <td>1</td>\n",
       "      <td>0</td>\n",
       "      <td>0</td>\n",
       "    </tr>\n",
       "    <tr>\n",
       "      <th>3</th>\n",
       "      <td>0</td>\n",
       "      <td>2016-01-06</td>\n",
       "      <td>2</td>\n",
       "      <td>133.067673</td>\n",
       "      <td>1</td>\n",
       "      <td>0</td>\n",
       "      <td>0</td>\n",
       "    </tr>\n",
       "    <tr>\n",
       "      <th>4</th>\n",
       "      <td>0</td>\n",
       "      <td>2016-01-06</td>\n",
       "      <td>3</td>\n",
       "      <td>134.566010</td>\n",
       "      <td>1</td>\n",
       "      <td>0</td>\n",
       "      <td>0</td>\n",
       "    </tr>\n",
       "    <tr>\n",
       "      <th>...</th>\n",
       "      <td>...</td>\n",
       "      <td>...</td>\n",
       "      <td>...</td>\n",
       "      <td>...</td>\n",
       "      <td>...</td>\n",
       "      <td>...</td>\n",
       "      <td>...</td>\n",
       "    </tr>\n",
       "    <tr>\n",
       "      <th>99909</th>\n",
       "      <td>1568</td>\n",
       "      <td>2016-01-19</td>\n",
       "      <td>10</td>\n",
       "      <td>143.166336</td>\n",
       "      <td>1</td>\n",
       "      <td>0</td>\n",
       "      <td>0</td>\n",
       "    </tr>\n",
       "    <tr>\n",
       "      <th>99910</th>\n",
       "      <td>1568</td>\n",
       "      <td>2016-01-19</td>\n",
       "      <td>11</td>\n",
       "      <td>145.432510</td>\n",
       "      <td>1</td>\n",
       "      <td>0</td>\n",
       "      <td>0</td>\n",
       "    </tr>\n",
       "    <tr>\n",
       "      <th>99911</th>\n",
       "      <td>1568</td>\n",
       "      <td>2016-01-19</td>\n",
       "      <td>12</td>\n",
       "      <td>144.899673</td>\n",
       "      <td>1</td>\n",
       "      <td>0</td>\n",
       "      <td>0</td>\n",
       "    </tr>\n",
       "    <tr>\n",
       "      <th>99912</th>\n",
       "      <td>1568</td>\n",
       "      <td>2016-01-19</td>\n",
       "      <td>12</td>\n",
       "      <td>4.000000</td>\n",
       "      <td>0</td>\n",
       "      <td>1</td>\n",
       "      <td>0</td>\n",
       "    </tr>\n",
       "    <tr>\n",
       "      <th>99913</th>\n",
       "      <td>1568</td>\n",
       "      <td>2016-01-19</td>\n",
       "      <td>13</td>\n",
       "      <td>157.562180</td>\n",
       "      <td>1</td>\n",
       "      <td>0</td>\n",
       "      <td>0</td>\n",
       "    </tr>\n",
       "  </tbody>\n",
       "</table>\n",
       "<p>99914 rows × 7 columns</p>\n",
       "</div>"
      ],
      "text/plain": [
       "       pat_id        day  hour       value  parameter_blood_pressure  \\\n",
       "0           0 2016-01-05    23  104.543182                         1   \n",
       "1           0 2016-01-06     0  110.542542                         1   \n",
       "2           0 2016-01-06     1  133.832001                         1   \n",
       "3           0 2016-01-06     2  133.067673                         1   \n",
       "4           0 2016-01-06     3  134.566010                         1   \n",
       "...       ...        ...   ...         ...                       ...   \n",
       "99909    1568 2016-01-19    10  143.166336                         1   \n",
       "99910    1568 2016-01-19    11  145.432510                         1   \n",
       "99911    1568 2016-01-19    12  144.899673                         1   \n",
       "99912    1568 2016-01-19    12    4.000000                         0   \n",
       "99913    1568 2016-01-19    13  157.562180                         1   \n",
       "\n",
       "       parameter_respiration_rate  parameter_temperature  \n",
       "0                               0                      0  \n",
       "1                               0                      0  \n",
       "2                               0                      0  \n",
       "3                               0                      0  \n",
       "4                               0                      0  \n",
       "...                           ...                    ...  \n",
       "99909                           0                      0  \n",
       "99910                           0                      0  \n",
       "99911                           0                      0  \n",
       "99912                           1                      0  \n",
       "99913                           0                      0  \n",
       "\n",
       "[99914 rows x 7 columns]"
      ]
     },
     "execution_count": 187,
     "metadata": {},
     "output_type": "execute_result"
    }
   ],
   "source": [
    "signal"
   ]
  },
  {
   "cell_type": "markdown",
   "id": "822f0128",
   "metadata": {},
   "source": [
    "### To sort Values through \"pat_id\""
   ]
  },
  {
   "cell_type": "code",
   "execution_count": 188,
   "id": "438e86b6",
   "metadata": {},
   "outputs": [],
   "source": [
    "admission = admission.sort_values(by=['pat_id'])\n",
    "admission[\"date_admission\"] = pd.to_datetime(admission[\"date_admission\"],  dayfirst=True)\n",
    "admission[\"date_discharge\"] = pd.to_datetime(admission[\"date_discharge\"],  dayfirst=True)"
   ]
  },
  {
   "cell_type": "code",
   "execution_count": 189,
   "id": "f6f61b0b",
   "metadata": {},
   "outputs": [
    {
     "data": {
      "text/html": [
       "<div>\n",
       "<style scoped>\n",
       "    .dataframe tbody tr th:only-of-type {\n",
       "        vertical-align: middle;\n",
       "    }\n",
       "\n",
       "    .dataframe tbody tr th {\n",
       "        vertical-align: top;\n",
       "    }\n",
       "\n",
       "    .dataframe thead th {\n",
       "        text-align: right;\n",
       "    }\n",
       "</style>\n",
       "<table border=\"1\" class=\"dataframe\">\n",
       "  <thead>\n",
       "    <tr style=\"text-align: right;\">\n",
       "      <th></th>\n",
       "      <th>pat_id</th>\n",
       "      <th>date_admission</th>\n",
       "      <th>date_discharge</th>\n",
       "    </tr>\n",
       "  </thead>\n",
       "  <tbody>\n",
       "    <tr>\n",
       "      <th>1344</th>\n",
       "      <td>0</td>\n",
       "      <td>2016-01-05</td>\n",
       "      <td>2016-01-07</td>\n",
       "    </tr>\n",
       "    <tr>\n",
       "      <th>180</th>\n",
       "      <td>1</td>\n",
       "      <td>2014-07-04</td>\n",
       "      <td>2014-07-06</td>\n",
       "    </tr>\n",
       "    <tr>\n",
       "      <th>448</th>\n",
       "      <td>3</td>\n",
       "      <td>2014-10-16</td>\n",
       "      <td>2014-10-20</td>\n",
       "    </tr>\n",
       "    <tr>\n",
       "      <th>730</th>\n",
       "      <td>4</td>\n",
       "      <td>2015-02-06</td>\n",
       "      <td>2015-02-07</td>\n",
       "    </tr>\n",
       "    <tr>\n",
       "      <th>532</th>\n",
       "      <td>5</td>\n",
       "      <td>2014-12-06</td>\n",
       "      <td>2014-12-08</td>\n",
       "    </tr>\n",
       "    <tr>\n",
       "      <th>...</th>\n",
       "      <td>...</td>\n",
       "      <td>...</td>\n",
       "      <td>...</td>\n",
       "    </tr>\n",
       "    <tr>\n",
       "      <th>1545</th>\n",
       "      <td>1564</td>\n",
       "      <td>2016-07-29</td>\n",
       "      <td>2016-07-30</td>\n",
       "    </tr>\n",
       "    <tr>\n",
       "      <th>835</th>\n",
       "      <td>1565</td>\n",
       "      <td>2015-04-21</td>\n",
       "      <td>2015-04-22</td>\n",
       "    </tr>\n",
       "    <tr>\n",
       "      <th>611</th>\n",
       "      <td>1566</td>\n",
       "      <td>2015-01-10</td>\n",
       "      <td>2015-01-10</td>\n",
       "    </tr>\n",
       "    <tr>\n",
       "      <th>637</th>\n",
       "      <td>1567</td>\n",
       "      <td>2015-01-31</td>\n",
       "      <td>2015-02-01</td>\n",
       "    </tr>\n",
       "    <tr>\n",
       "      <th>1235</th>\n",
       "      <td>1568</td>\n",
       "      <td>2016-01-18</td>\n",
       "      <td>2016-01-19</td>\n",
       "    </tr>\n",
       "  </tbody>\n",
       "</table>\n",
       "<p>1569 rows × 3 columns</p>\n",
       "</div>"
      ],
      "text/plain": [
       "      pat_id date_admission date_discharge\n",
       "1344       0     2016-01-05     2016-01-07\n",
       "180        1     2014-07-04     2014-07-06\n",
       "448        3     2014-10-16     2014-10-20\n",
       "730        4     2015-02-06     2015-02-07\n",
       "532        5     2014-12-06     2014-12-08\n",
       "...      ...            ...            ...\n",
       "1545    1564     2016-07-29     2016-07-30\n",
       "835     1565     2015-04-21     2015-04-22\n",
       "611     1566     2015-01-10     2015-01-10\n",
       "637     1567     2015-01-31     2015-02-01\n",
       "1235    1568     2016-01-18     2016-01-19\n",
       "\n",
       "[1569 rows x 3 columns]"
      ]
     },
     "execution_count": 189,
     "metadata": {},
     "output_type": "execute_result"
    }
   ],
   "source": [
    "admission"
   ]
  },
  {
   "cell_type": "code",
   "execution_count": 190,
   "id": "2fd4fac9",
   "metadata": {},
   "outputs": [
    {
     "data": {
      "text/html": [
       "<div>\n",
       "<style scoped>\n",
       "    .dataframe tbody tr th:only-of-type {\n",
       "        vertical-align: middle;\n",
       "    }\n",
       "\n",
       "    .dataframe tbody tr th {\n",
       "        vertical-align: top;\n",
       "    }\n",
       "\n",
       "    .dataframe thead th {\n",
       "        text-align: right;\n",
       "    }\n",
       "</style>\n",
       "<table border=\"1\" class=\"dataframe\">\n",
       "  <thead>\n",
       "    <tr style=\"text-align: right;\">\n",
       "      <th></th>\n",
       "      <th>pat_id</th>\n",
       "      <th>age</th>\n",
       "    </tr>\n",
       "  </thead>\n",
       "  <tbody>\n",
       "    <tr>\n",
       "      <th>0</th>\n",
       "      <td>0</td>\n",
       "      <td>35</td>\n",
       "    </tr>\n",
       "    <tr>\n",
       "      <th>1</th>\n",
       "      <td>1</td>\n",
       "      <td>77</td>\n",
       "    </tr>\n",
       "    <tr>\n",
       "      <th>2</th>\n",
       "      <td>2</td>\n",
       "      <td>77</td>\n",
       "    </tr>\n",
       "    <tr>\n",
       "      <th>3</th>\n",
       "      <td>3</td>\n",
       "      <td>61</td>\n",
       "    </tr>\n",
       "    <tr>\n",
       "      <th>4</th>\n",
       "      <td>4</td>\n",
       "      <td>27</td>\n",
       "    </tr>\n",
       "    <tr>\n",
       "      <th>...</th>\n",
       "      <td>...</td>\n",
       "      <td>...</td>\n",
       "    </tr>\n",
       "    <tr>\n",
       "      <th>1490</th>\n",
       "      <td>1564</td>\n",
       "      <td>87</td>\n",
       "    </tr>\n",
       "    <tr>\n",
       "      <th>1491</th>\n",
       "      <td>1565</td>\n",
       "      <td>68</td>\n",
       "    </tr>\n",
       "    <tr>\n",
       "      <th>1492</th>\n",
       "      <td>1566</td>\n",
       "      <td>73</td>\n",
       "    </tr>\n",
       "    <tr>\n",
       "      <th>1493</th>\n",
       "      <td>1567</td>\n",
       "      <td>83</td>\n",
       "    </tr>\n",
       "    <tr>\n",
       "      <th>1494</th>\n",
       "      <td>1568</td>\n",
       "      <td>64</td>\n",
       "    </tr>\n",
       "  </tbody>\n",
       "</table>\n",
       "<p>1495 rows × 2 columns</p>\n",
       "</div>"
      ],
      "text/plain": [
       "      pat_id  age\n",
       "0          0   35\n",
       "1          1   77\n",
       "2          2   77\n",
       "3          3   61\n",
       "4          4   27\n",
       "...      ...  ...\n",
       "1490    1564   87\n",
       "1491    1565   68\n",
       "1492    1566   73\n",
       "1493    1567   83\n",
       "1494    1568   64\n",
       "\n",
       "[1495 rows x 2 columns]"
      ]
     },
     "execution_count": 190,
     "metadata": {},
     "output_type": "execute_result"
    }
   ],
   "source": [
    "age = age.sort_values(by=['pat_id'])\n",
    "age"
   ]
  },
  {
   "cell_type": "markdown",
   "id": "63c6296f",
   "metadata": {},
   "source": [
    "### To merge different datasets"
   ]
  },
  {
   "cell_type": "code",
   "execution_count": 191,
   "id": "4faeff91",
   "metadata": {},
   "outputs": [
    {
     "data": {
      "text/html": [
       "<div>\n",
       "<style scoped>\n",
       "    .dataframe tbody tr th:only-of-type {\n",
       "        vertical-align: middle;\n",
       "    }\n",
       "\n",
       "    .dataframe tbody tr th {\n",
       "        vertical-align: top;\n",
       "    }\n",
       "\n",
       "    .dataframe thead th {\n",
       "        text-align: right;\n",
       "    }\n",
       "</style>\n",
       "<table border=\"1\" class=\"dataframe\">\n",
       "  <thead>\n",
       "    <tr style=\"text-align: right;\">\n",
       "      <th></th>\n",
       "      <th>pat_id</th>\n",
       "      <th>date_admission</th>\n",
       "      <th>date_discharge</th>\n",
       "      <th>age</th>\n",
       "    </tr>\n",
       "  </thead>\n",
       "  <tbody>\n",
       "    <tr>\n",
       "      <th>0</th>\n",
       "      <td>0</td>\n",
       "      <td>2016-01-05</td>\n",
       "      <td>2016-01-07</td>\n",
       "      <td>35</td>\n",
       "    </tr>\n",
       "    <tr>\n",
       "      <th>1</th>\n",
       "      <td>1</td>\n",
       "      <td>2014-07-04</td>\n",
       "      <td>2014-07-06</td>\n",
       "      <td>77</td>\n",
       "    </tr>\n",
       "    <tr>\n",
       "      <th>2</th>\n",
       "      <td>3</td>\n",
       "      <td>2014-10-16</td>\n",
       "      <td>2014-10-20</td>\n",
       "      <td>61</td>\n",
       "    </tr>\n",
       "    <tr>\n",
       "      <th>3</th>\n",
       "      <td>4</td>\n",
       "      <td>2015-02-06</td>\n",
       "      <td>2015-02-07</td>\n",
       "      <td>27</td>\n",
       "    </tr>\n",
       "    <tr>\n",
       "      <th>4</th>\n",
       "      <td>5</td>\n",
       "      <td>2014-12-06</td>\n",
       "      <td>2014-12-08</td>\n",
       "      <td>67</td>\n",
       "    </tr>\n",
       "    <tr>\n",
       "      <th>...</th>\n",
       "      <td>...</td>\n",
       "      <td>...</td>\n",
       "      <td>...</td>\n",
       "      <td>...</td>\n",
       "    </tr>\n",
       "    <tr>\n",
       "      <th>1495</th>\n",
       "      <td>1564</td>\n",
       "      <td>2016-07-29</td>\n",
       "      <td>2016-07-30</td>\n",
       "      <td>87</td>\n",
       "    </tr>\n",
       "    <tr>\n",
       "      <th>1496</th>\n",
       "      <td>1565</td>\n",
       "      <td>2015-04-21</td>\n",
       "      <td>2015-04-22</td>\n",
       "      <td>68</td>\n",
       "    </tr>\n",
       "    <tr>\n",
       "      <th>1497</th>\n",
       "      <td>1566</td>\n",
       "      <td>2015-01-10</td>\n",
       "      <td>2015-01-10</td>\n",
       "      <td>73</td>\n",
       "    </tr>\n",
       "    <tr>\n",
       "      <th>1498</th>\n",
       "      <td>1567</td>\n",
       "      <td>2015-01-31</td>\n",
       "      <td>2015-02-01</td>\n",
       "      <td>83</td>\n",
       "    </tr>\n",
       "    <tr>\n",
       "      <th>1499</th>\n",
       "      <td>1568</td>\n",
       "      <td>2016-01-18</td>\n",
       "      <td>2016-01-19</td>\n",
       "      <td>64</td>\n",
       "    </tr>\n",
       "  </tbody>\n",
       "</table>\n",
       "<p>1500 rows × 4 columns</p>\n",
       "</div>"
      ],
      "text/plain": [
       "      pat_id date_admission date_discharge  age\n",
       "0          0     2016-01-05     2016-01-07   35\n",
       "1          1     2014-07-04     2014-07-06   77\n",
       "2          3     2014-10-16     2014-10-20   61\n",
       "3          4     2015-02-06     2015-02-07   27\n",
       "4          5     2014-12-06     2014-12-08   67\n",
       "...      ...            ...            ...  ...\n",
       "1495    1564     2016-07-29     2016-07-30   87\n",
       "1496    1565     2015-04-21     2015-04-22   68\n",
       "1497    1566     2015-01-10     2015-01-10   73\n",
       "1498    1567     2015-01-31     2015-02-01   83\n",
       "1499    1568     2016-01-18     2016-01-19   64\n",
       "\n",
       "[1500 rows x 4 columns]"
      ]
     },
     "execution_count": 191,
     "metadata": {},
     "output_type": "execute_result"
    }
   ],
   "source": [
    "new_df = pd.merge(admission,age)\n",
    "new_df"
   ]
  },
  {
   "cell_type": "code",
   "execution_count": 192,
   "id": "aab82860",
   "metadata": {},
   "outputs": [
    {
     "name": "stdout",
     "output_type": "stream",
     "text": [
      "<class 'pandas.core.frame.DataFrame'>\n",
      "Int64Index: 1500 entries, 0 to 1499\n",
      "Data columns (total 4 columns):\n",
      " #   Column          Non-Null Count  Dtype         \n",
      "---  ------          --------------  -----         \n",
      " 0   pat_id          1500 non-null   int16         \n",
      " 1   date_admission  1500 non-null   datetime64[ns]\n",
      " 2   date_discharge  1500 non-null   datetime64[ns]\n",
      " 3   age             1500 non-null   int8          \n",
      "dtypes: datetime64[ns](2), int16(1), int8(1)\n",
      "memory usage: 39.6 KB\n"
     ]
    }
   ],
   "source": [
    "new_df.info()"
   ]
  },
  {
   "cell_type": "code",
   "execution_count": 193,
   "id": "5f0244c2",
   "metadata": {},
   "outputs": [],
   "source": [
    "signal = signal.sort_values(by=['pat_id'])"
   ]
  },
  {
   "cell_type": "code",
   "execution_count": 194,
   "id": "67c772df",
   "metadata": {},
   "outputs": [
    {
     "data": {
      "text/html": [
       "<div>\n",
       "<style scoped>\n",
       "    .dataframe tbody tr th:only-of-type {\n",
       "        vertical-align: middle;\n",
       "    }\n",
       "\n",
       "    .dataframe tbody tr th {\n",
       "        vertical-align: top;\n",
       "    }\n",
       "\n",
       "    .dataframe thead th {\n",
       "        text-align: right;\n",
       "    }\n",
       "</style>\n",
       "<table border=\"1\" class=\"dataframe\">\n",
       "  <thead>\n",
       "    <tr style=\"text-align: right;\">\n",
       "      <th></th>\n",
       "      <th>pat_id</th>\n",
       "      <th>day</th>\n",
       "      <th>hour</th>\n",
       "      <th>value</th>\n",
       "      <th>parameter_blood_pressure</th>\n",
       "      <th>parameter_respiration_rate</th>\n",
       "      <th>parameter_temperature</th>\n",
       "    </tr>\n",
       "  </thead>\n",
       "  <tbody>\n",
       "    <tr>\n",
       "      <th>0</th>\n",
       "      <td>0</td>\n",
       "      <td>2016-01-05</td>\n",
       "      <td>23</td>\n",
       "      <td>104.543182</td>\n",
       "      <td>1</td>\n",
       "      <td>0</td>\n",
       "      <td>0</td>\n",
       "    </tr>\n",
       "    <tr>\n",
       "      <th>29</th>\n",
       "      <td>0</td>\n",
       "      <td>2016-01-06</td>\n",
       "      <td>21</td>\n",
       "      <td>129.121765</td>\n",
       "      <td>1</td>\n",
       "      <td>0</td>\n",
       "      <td>0</td>\n",
       "    </tr>\n",
       "    <tr>\n",
       "      <th>30</th>\n",
       "      <td>0</td>\n",
       "      <td>2016-01-06</td>\n",
       "      <td>21</td>\n",
       "      <td>1.990000</td>\n",
       "      <td>0</td>\n",
       "      <td>1</td>\n",
       "      <td>0</td>\n",
       "    </tr>\n",
       "    <tr>\n",
       "      <th>31</th>\n",
       "      <td>0</td>\n",
       "      <td>2016-01-06</td>\n",
       "      <td>22</td>\n",
       "      <td>123.634338</td>\n",
       "      <td>1</td>\n",
       "      <td>0</td>\n",
       "      <td>0</td>\n",
       "    </tr>\n",
       "    <tr>\n",
       "      <th>32</th>\n",
       "      <td>0</td>\n",
       "      <td>2016-01-06</td>\n",
       "      <td>22</td>\n",
       "      <td>2.000000</td>\n",
       "      <td>0</td>\n",
       "      <td>1</td>\n",
       "      <td>0</td>\n",
       "    </tr>\n",
       "    <tr>\n",
       "      <th>...</th>\n",
       "      <td>...</td>\n",
       "      <td>...</td>\n",
       "      <td>...</td>\n",
       "      <td>...</td>\n",
       "      <td>...</td>\n",
       "      <td>...</td>\n",
       "      <td>...</td>\n",
       "    </tr>\n",
       "    <tr>\n",
       "      <th>99884</th>\n",
       "      <td>1568</td>\n",
       "      <td>2016-01-18</td>\n",
       "      <td>16</td>\n",
       "      <td>117.266335</td>\n",
       "      <td>1</td>\n",
       "      <td>0</td>\n",
       "      <td>0</td>\n",
       "    </tr>\n",
       "    <tr>\n",
       "      <th>99883</th>\n",
       "      <td>1568</td>\n",
       "      <td>2016-01-18</td>\n",
       "      <td>15</td>\n",
       "      <td>109.000000</td>\n",
       "      <td>1</td>\n",
       "      <td>0</td>\n",
       "      <td>0</td>\n",
       "    </tr>\n",
       "    <tr>\n",
       "      <th>99912</th>\n",
       "      <td>1568</td>\n",
       "      <td>2016-01-19</td>\n",
       "      <td>12</td>\n",
       "      <td>4.000000</td>\n",
       "      <td>0</td>\n",
       "      <td>1</td>\n",
       "      <td>0</td>\n",
       "    </tr>\n",
       "    <tr>\n",
       "      <th>99897</th>\n",
       "      <td>1568</td>\n",
       "      <td>2016-01-19</td>\n",
       "      <td>2</td>\n",
       "      <td>6.010000</td>\n",
       "      <td>0</td>\n",
       "      <td>1</td>\n",
       "      <td>0</td>\n",
       "    </tr>\n",
       "    <tr>\n",
       "      <th>99913</th>\n",
       "      <td>1568</td>\n",
       "      <td>2016-01-19</td>\n",
       "      <td>13</td>\n",
       "      <td>157.562180</td>\n",
       "      <td>1</td>\n",
       "      <td>0</td>\n",
       "      <td>0</td>\n",
       "    </tr>\n",
       "  </tbody>\n",
       "</table>\n",
       "<p>99914 rows × 7 columns</p>\n",
       "</div>"
      ],
      "text/plain": [
       "       pat_id        day  hour       value  parameter_blood_pressure  \\\n",
       "0           0 2016-01-05    23  104.543182                         1   \n",
       "29          0 2016-01-06    21  129.121765                         1   \n",
       "30          0 2016-01-06    21    1.990000                         0   \n",
       "31          0 2016-01-06    22  123.634338                         1   \n",
       "32          0 2016-01-06    22    2.000000                         0   \n",
       "...       ...        ...   ...         ...                       ...   \n",
       "99884    1568 2016-01-18    16  117.266335                         1   \n",
       "99883    1568 2016-01-18    15  109.000000                         1   \n",
       "99912    1568 2016-01-19    12    4.000000                         0   \n",
       "99897    1568 2016-01-19     2    6.010000                         0   \n",
       "99913    1568 2016-01-19    13  157.562180                         1   \n",
       "\n",
       "       parameter_respiration_rate  parameter_temperature  \n",
       "0                               0                      0  \n",
       "29                              0                      0  \n",
       "30                              1                      0  \n",
       "31                              0                      0  \n",
       "32                              1                      0  \n",
       "...                           ...                    ...  \n",
       "99884                           0                      0  \n",
       "99883                           0                      0  \n",
       "99912                           1                      0  \n",
       "99897                           1                      0  \n",
       "99913                           0                      0  \n",
       "\n",
       "[99914 rows x 7 columns]"
      ]
     },
     "execution_count": 194,
     "metadata": {},
     "output_type": "execute_result"
    }
   ],
   "source": [
    "signal"
   ]
  },
  {
   "cell_type": "code",
   "execution_count": 195,
   "id": "d014f18b",
   "metadata": {},
   "outputs": [
    {
     "data": {
      "text/html": [
       "<div>\n",
       "<style scoped>\n",
       "    .dataframe tbody tr th:only-of-type {\n",
       "        vertical-align: middle;\n",
       "    }\n",
       "\n",
       "    .dataframe tbody tr th {\n",
       "        vertical-align: top;\n",
       "    }\n",
       "\n",
       "    .dataframe thead th {\n",
       "        text-align: right;\n",
       "    }\n",
       "</style>\n",
       "<table border=\"1\" class=\"dataframe\">\n",
       "  <thead>\n",
       "    <tr style=\"text-align: right;\">\n",
       "      <th></th>\n",
       "      <th>pat_id</th>\n",
       "      <th>date_admission</th>\n",
       "      <th>date_discharge</th>\n",
       "      <th>age</th>\n",
       "      <th>day</th>\n",
       "      <th>hour</th>\n",
       "      <th>value</th>\n",
       "      <th>parameter_blood_pressure</th>\n",
       "      <th>parameter_respiration_rate</th>\n",
       "      <th>parameter_temperature</th>\n",
       "    </tr>\n",
       "  </thead>\n",
       "  <tbody>\n",
       "    <tr>\n",
       "      <th>0</th>\n",
       "      <td>0</td>\n",
       "      <td>2016-01-05</td>\n",
       "      <td>2016-01-07</td>\n",
       "      <td>35</td>\n",
       "      <td>2016-01-05</td>\n",
       "      <td>23</td>\n",
       "      <td>104.543182</td>\n",
       "      <td>1</td>\n",
       "      <td>0</td>\n",
       "      <td>0</td>\n",
       "    </tr>\n",
       "    <tr>\n",
       "      <th>1</th>\n",
       "      <td>0</td>\n",
       "      <td>2016-01-05</td>\n",
       "      <td>2016-01-07</td>\n",
       "      <td>35</td>\n",
       "      <td>2016-01-06</td>\n",
       "      <td>21</td>\n",
       "      <td>129.121765</td>\n",
       "      <td>1</td>\n",
       "      <td>0</td>\n",
       "      <td>0</td>\n",
       "    </tr>\n",
       "    <tr>\n",
       "      <th>2</th>\n",
       "      <td>0</td>\n",
       "      <td>2016-01-05</td>\n",
       "      <td>2016-01-07</td>\n",
       "      <td>35</td>\n",
       "      <td>2016-01-06</td>\n",
       "      <td>21</td>\n",
       "      <td>1.990000</td>\n",
       "      <td>0</td>\n",
       "      <td>1</td>\n",
       "      <td>0</td>\n",
       "    </tr>\n",
       "    <tr>\n",
       "      <th>3</th>\n",
       "      <td>0</td>\n",
       "      <td>2016-01-05</td>\n",
       "      <td>2016-01-07</td>\n",
       "      <td>35</td>\n",
       "      <td>2016-01-06</td>\n",
       "      <td>22</td>\n",
       "      <td>123.634338</td>\n",
       "      <td>1</td>\n",
       "      <td>0</td>\n",
       "      <td>0</td>\n",
       "    </tr>\n",
       "    <tr>\n",
       "      <th>4</th>\n",
       "      <td>0</td>\n",
       "      <td>2016-01-05</td>\n",
       "      <td>2016-01-07</td>\n",
       "      <td>35</td>\n",
       "      <td>2016-01-06</td>\n",
       "      <td>22</td>\n",
       "      <td>2.000000</td>\n",
       "      <td>0</td>\n",
       "      <td>1</td>\n",
       "      <td>0</td>\n",
       "    </tr>\n",
       "  </tbody>\n",
       "</table>\n",
       "</div>"
      ],
      "text/plain": [
       "   pat_id date_admission date_discharge  age        day  hour       value  \\\n",
       "0       0     2016-01-05     2016-01-07   35 2016-01-05    23  104.543182   \n",
       "1       0     2016-01-05     2016-01-07   35 2016-01-06    21  129.121765   \n",
       "2       0     2016-01-05     2016-01-07   35 2016-01-06    21    1.990000   \n",
       "3       0     2016-01-05     2016-01-07   35 2016-01-06    22  123.634338   \n",
       "4       0     2016-01-05     2016-01-07   35 2016-01-06    22    2.000000   \n",
       "\n",
       "   parameter_blood_pressure  parameter_respiration_rate  parameter_temperature  \n",
       "0                         1                           0                      0  \n",
       "1                         1                           0                      0  \n",
       "2                         0                           1                      0  \n",
       "3                         1                           0                      0  \n",
       "4                         0                           1                      0  "
      ]
     },
     "execution_count": 195,
     "metadata": {},
     "output_type": "execute_result"
    }
   ],
   "source": [
    "final_dataset = pd.merge(new_df,signal)\n",
    "final_dataset.head()"
   ]
  },
  {
   "cell_type": "code",
   "execution_count": 196,
   "id": "b8c7748e",
   "metadata": {},
   "outputs": [
    {
     "name": "stdout",
     "output_type": "stream",
     "text": [
      "<class 'pandas.core.frame.DataFrame'>\n",
      "Int64Index: 109052 entries, 0 to 109051\n",
      "Data columns (total 10 columns):\n",
      " #   Column                      Non-Null Count   Dtype         \n",
      "---  ------                      --------------   -----         \n",
      " 0   pat_id                      109052 non-null  int16         \n",
      " 1   date_admission              109052 non-null  datetime64[ns]\n",
      " 2   date_discharge              109052 non-null  datetime64[ns]\n",
      " 3   age                         109052 non-null  int8          \n",
      " 4   day                         109052 non-null  datetime64[ns]\n",
      " 5   hour                        109052 non-null  int8          \n",
      " 6   value                       109052 non-null  float32       \n",
      " 7   parameter_blood_pressure    109052 non-null  uint8         \n",
      " 8   parameter_respiration_rate  109052 non-null  uint8         \n",
      " 9   parameter_temperature       109052 non-null  uint8         \n",
      "dtypes: datetime64[ns](3), float32(1), int16(1), int8(2), uint8(3)\n",
      "memory usage: 4.5 MB\n"
     ]
    }
   ],
   "source": [
    "final_dataset.info()"
   ]
  },
  {
   "cell_type": "markdown",
   "id": "d3a90f96",
   "metadata": {},
   "source": [
    "### To Extract tripartite parameters (features)"
   ]
  },
  {
   "cell_type": "code",
   "execution_count": 197,
   "id": "6e1d45a7",
   "metadata": {},
   "outputs": [],
   "source": [
    "final_dataset['blood_pressure'] = np.where((final_dataset['parameter_blood_pressure'] == 1)\n",
    "                     , final_dataset['value'], np.nan)\n",
    "final_dataset['respiration_rate'] = np.where((final_dataset['parameter_respiration_rate'] == 1)\n",
    "                     , final_dataset['value'], np.nan)\n",
    "final_dataset['body_temp'] = np.where((final_dataset['parameter_temperature'] == 1)\n",
    "                     , final_dataset['value'], np.nan)"
   ]
  },
  {
   "cell_type": "markdown",
   "id": "61012e29",
   "metadata": {},
   "source": [
    "### Filling the NaN values with the mean of each Column"
   ]
  },
  {
   "cell_type": "code",
   "execution_count": 198,
   "id": "3cadd19c",
   "metadata": {},
   "outputs": [],
   "source": [
    "final_dataset[\"blood_pressure\"].fillna(final_dataset[\"blood_pressure\"].mean(), inplace = True)\n",
    "final_dataset[\"respiration_rate\"].fillna(final_dataset[\"respiration_rate\"].mean(), inplace = True)\n",
    "final_dataset[\"body_temp\"].fillna(final_dataset[\"body_temp\"].mean(), inplace = True)"
   ]
  },
  {
   "cell_type": "code",
   "execution_count": 199,
   "id": "b450d5e1",
   "metadata": {},
   "outputs": [
    {
     "data": {
      "text/plain": [
       "37.386463    101473\n",
       "36.917950       225\n",
       "36.928207       218\n",
       "36.923080       209\n",
       "37.128208       192\n",
       "              ...  \n",
       "38.174358         1\n",
       "40.415386         1\n",
       "38.971794         1\n",
       "39.230770         1\n",
       "34.866665         1\n",
       "Name: body_temp, Length: 238, dtype: int64"
      ]
     },
     "execution_count": 199,
     "metadata": {},
     "output_type": "execute_result"
    }
   ],
   "source": [
    "final_dataset[\"body_temp\"].value_counts()"
   ]
  },
  {
   "cell_type": "code",
   "execution_count": 200,
   "id": "8a2b81a4",
   "metadata": {},
   "outputs": [],
   "source": [
    "final_dataset.drop('parameter_temperature', axis=1, inplace=True)\n",
    "final_dataset.drop('parameter_blood_pressure', axis=1, inplace=True)\n",
    "final_dataset.drop('parameter_respiration_rate', axis=1, inplace=True)\n",
    "final_dataset.drop('value', axis=1, inplace=True)\n",
    "final_dataset.drop('hour', axis=1, inplace=True)"
   ]
  },
  {
   "cell_type": "code",
   "execution_count": 201,
   "id": "139ba832",
   "metadata": {},
   "outputs": [
    {
     "data": {
      "text/html": [
       "<div>\n",
       "<style scoped>\n",
       "    .dataframe tbody tr th:only-of-type {\n",
       "        vertical-align: middle;\n",
       "    }\n",
       "\n",
       "    .dataframe tbody tr th {\n",
       "        vertical-align: top;\n",
       "    }\n",
       "\n",
       "    .dataframe thead th {\n",
       "        text-align: right;\n",
       "    }\n",
       "</style>\n",
       "<table border=\"1\" class=\"dataframe\">\n",
       "  <thead>\n",
       "    <tr style=\"text-align: right;\">\n",
       "      <th></th>\n",
       "      <th>pat_id</th>\n",
       "      <th>date_admission</th>\n",
       "      <th>date_discharge</th>\n",
       "      <th>age</th>\n",
       "      <th>day</th>\n",
       "      <th>blood_pressure</th>\n",
       "      <th>respiration_rate</th>\n",
       "      <th>body_temp</th>\n",
       "    </tr>\n",
       "  </thead>\n",
       "  <tbody>\n",
       "    <tr>\n",
       "      <th>0</th>\n",
       "      <td>0</td>\n",
       "      <td>2016-01-05</td>\n",
       "      <td>2016-01-07</td>\n",
       "      <td>35</td>\n",
       "      <td>2016-01-05</td>\n",
       "      <td>104.543182</td>\n",
       "      <td>8.326612</td>\n",
       "      <td>37.386463</td>\n",
       "    </tr>\n",
       "    <tr>\n",
       "      <th>1</th>\n",
       "      <td>0</td>\n",
       "      <td>2016-01-05</td>\n",
       "      <td>2016-01-07</td>\n",
       "      <td>35</td>\n",
       "      <td>2016-01-06</td>\n",
       "      <td>129.121765</td>\n",
       "      <td>8.326612</td>\n",
       "      <td>37.386463</td>\n",
       "    </tr>\n",
       "    <tr>\n",
       "      <th>2</th>\n",
       "      <td>0</td>\n",
       "      <td>2016-01-05</td>\n",
       "      <td>2016-01-07</td>\n",
       "      <td>35</td>\n",
       "      <td>2016-01-06</td>\n",
       "      <td>126.221130</td>\n",
       "      <td>1.990000</td>\n",
       "      <td>37.386463</td>\n",
       "    </tr>\n",
       "    <tr>\n",
       "      <th>3</th>\n",
       "      <td>0</td>\n",
       "      <td>2016-01-05</td>\n",
       "      <td>2016-01-07</td>\n",
       "      <td>35</td>\n",
       "      <td>2016-01-06</td>\n",
       "      <td>123.634338</td>\n",
       "      <td>8.326612</td>\n",
       "      <td>37.386463</td>\n",
       "    </tr>\n",
       "    <tr>\n",
       "      <th>4</th>\n",
       "      <td>0</td>\n",
       "      <td>2016-01-05</td>\n",
       "      <td>2016-01-07</td>\n",
       "      <td>35</td>\n",
       "      <td>2016-01-06</td>\n",
       "      <td>126.221130</td>\n",
       "      <td>2.000000</td>\n",
       "      <td>37.386463</td>\n",
       "    </tr>\n",
       "  </tbody>\n",
       "</table>\n",
       "</div>"
      ],
      "text/plain": [
       "   pat_id date_admission date_discharge  age        day  blood_pressure  \\\n",
       "0       0     2016-01-05     2016-01-07   35 2016-01-05      104.543182   \n",
       "1       0     2016-01-05     2016-01-07   35 2016-01-06      129.121765   \n",
       "2       0     2016-01-05     2016-01-07   35 2016-01-06      126.221130   \n",
       "3       0     2016-01-05     2016-01-07   35 2016-01-06      123.634338   \n",
       "4       0     2016-01-05     2016-01-07   35 2016-01-06      126.221130   \n",
       "\n",
       "   respiration_rate  body_temp  \n",
       "0          8.326612  37.386463  \n",
       "1          8.326612  37.386463  \n",
       "2          1.990000  37.386463  \n",
       "3          8.326612  37.386463  \n",
       "4          2.000000  37.386463  "
      ]
     },
     "execution_count": 201,
     "metadata": {},
     "output_type": "execute_result"
    }
   ],
   "source": [
    "final_dataset.head()"
   ]
  },
  {
   "cell_type": "code",
   "execution_count": 202,
   "id": "c2ff02a2",
   "metadata": {},
   "outputs": [
    {
     "name": "stdout",
     "output_type": "stream",
     "text": [
      "<class 'pandas.core.frame.DataFrame'>\n",
      "Int64Index: 109052 entries, 0 to 109051\n",
      "Data columns (total 8 columns):\n",
      " #   Column            Non-Null Count   Dtype         \n",
      "---  ------            --------------   -----         \n",
      " 0   pat_id            109052 non-null  int16         \n",
      " 1   date_admission    109052 non-null  datetime64[ns]\n",
      " 2   date_discharge    109052 non-null  datetime64[ns]\n",
      " 3   age               109052 non-null  int8          \n",
      " 4   day               109052 non-null  datetime64[ns]\n",
      " 5   blood_pressure    109052 non-null  float32       \n",
      " 6   respiration_rate  109052 non-null  float32       \n",
      " 7   body_temp         109052 non-null  float32       \n",
      "dtypes: datetime64[ns](3), float32(3), int16(1), int8(1)\n",
      "memory usage: 4.9 MB\n"
     ]
    }
   ],
   "source": [
    "final_dataset.info()"
   ]
  },
  {
   "cell_type": "code",
   "execution_count": 203,
   "id": "2cef6da0",
   "metadata": {},
   "outputs": [
    {
     "data": {
      "text/html": [
       "<div>\n",
       "<style scoped>\n",
       "    .dataframe tbody tr th:only-of-type {\n",
       "        vertical-align: middle;\n",
       "    }\n",
       "\n",
       "    .dataframe tbody tr th {\n",
       "        vertical-align: top;\n",
       "    }\n",
       "\n",
       "    .dataframe thead th {\n",
       "        text-align: right;\n",
       "    }\n",
       "</style>\n",
       "<table border=\"1\" class=\"dataframe\">\n",
       "  <thead>\n",
       "    <tr style=\"text-align: right;\">\n",
       "      <th></th>\n",
       "      <th>pat_id</th>\n",
       "      <th>age</th>\n",
       "      <th>blood_pressure</th>\n",
       "      <th>respiration_rate</th>\n",
       "      <th>body_temp</th>\n",
       "    </tr>\n",
       "  </thead>\n",
       "  <tbody>\n",
       "    <tr>\n",
       "      <th>count</th>\n",
       "      <td>109052.000000</td>\n",
       "      <td>109052.000000</td>\n",
       "      <td>109052.000000</td>\n",
       "      <td>109052.000000</td>\n",
       "      <td>109052.000000</td>\n",
       "    </tr>\n",
       "    <tr>\n",
       "      <th>mean</th>\n",
       "      <td>872.776519</td>\n",
       "      <td>59.027290</td>\n",
       "      <td>126.167046</td>\n",
       "      <td>8.319889</td>\n",
       "      <td>37.433285</td>\n",
       "    </tr>\n",
       "    <tr>\n",
       "      <th>std</th>\n",
       "      <td>440.129090</td>\n",
       "      <td>16.565187</td>\n",
       "      <td>21.643925</td>\n",
       "      <td>2.964234</td>\n",
       "      <td>0.251623</td>\n",
       "    </tr>\n",
       "    <tr>\n",
       "      <th>min</th>\n",
       "      <td>0.000000</td>\n",
       "      <td>12.000000</td>\n",
       "      <td>20.000004</td>\n",
       "      <td>-0.010000</td>\n",
       "      <td>31.692310</td>\n",
       "    </tr>\n",
       "    <tr>\n",
       "      <th>25%</th>\n",
       "      <td>515.000000</td>\n",
       "      <td>50.000000</td>\n",
       "      <td>116.507965</td>\n",
       "      <td>8.326612</td>\n",
       "      <td>37.386463</td>\n",
       "    </tr>\n",
       "    <tr>\n",
       "      <th>50%</th>\n",
       "      <td>908.000000</td>\n",
       "      <td>63.000000</td>\n",
       "      <td>126.221130</td>\n",
       "      <td>8.326612</td>\n",
       "      <td>37.386463</td>\n",
       "    </tr>\n",
       "    <tr>\n",
       "      <th>75%</th>\n",
       "      <td>1259.000000</td>\n",
       "      <td>71.000000</td>\n",
       "      <td>128.610130</td>\n",
       "      <td>8.326612</td>\n",
       "      <td>37.386463</td>\n",
       "    </tr>\n",
       "    <tr>\n",
       "      <th>max</th>\n",
       "      <td>1568.000000</td>\n",
       "      <td>91.000000</td>\n",
       "      <td>592.000000</td>\n",
       "      <td>149.990005</td>\n",
       "      <td>40.923077</td>\n",
       "    </tr>\n",
       "  </tbody>\n",
       "</table>\n",
       "</div>"
      ],
      "text/plain": [
       "              pat_id            age  blood_pressure  respiration_rate  \\\n",
       "count  109052.000000  109052.000000   109052.000000     109052.000000   \n",
       "mean      872.776519      59.027290      126.167046          8.319889   \n",
       "std       440.129090      16.565187       21.643925          2.964234   \n",
       "min         0.000000      12.000000       20.000004         -0.010000   \n",
       "25%       515.000000      50.000000      116.507965          8.326612   \n",
       "50%       908.000000      63.000000      126.221130          8.326612   \n",
       "75%      1259.000000      71.000000      128.610130          8.326612   \n",
       "max      1568.000000      91.000000      592.000000        149.990005   \n",
       "\n",
       "           body_temp  \n",
       "count  109052.000000  \n",
       "mean       37.433285  \n",
       "std         0.251623  \n",
       "min        31.692310  \n",
       "25%        37.386463  \n",
       "50%        37.386463  \n",
       "75%        37.386463  \n",
       "max        40.923077  "
      ]
     },
     "execution_count": 203,
     "metadata": {},
     "output_type": "execute_result"
    }
   ],
   "source": [
    "final_dataset.describe()"
   ]
  },
  {
   "cell_type": "markdown",
   "id": "b29964be",
   "metadata": {},
   "source": [
    "## To Assign 0 for datas which are recorded all staying day in ICU except last day and 1 for the day of staying at ICU!\n",
    "\n",
    "### I assume that at the last day of staying at ICU the condition of patients has become stable so it can be considered as the well-being condition!"
   ]
  },
  {
   "cell_type": "code",
   "execution_count": 204,
   "id": "bc53e811",
   "metadata": {},
   "outputs": [],
   "source": [
    "final_dataset['date_discharge']=final_dataset['date_discharge'].astype(str)\n",
    "final_dataset['day']=final_dataset['day'].astype(str)\n",
    "\n",
    "final_dataset ['go_home?'] = np.where((final_dataset['date_discharge'] == final_dataset['day'])\n",
    "                     , 1, 0)"
   ]
  },
  {
   "cell_type": "code",
   "execution_count": 205,
   "id": "01de39c9",
   "metadata": {},
   "outputs": [
    {
     "data": {
      "text/html": [
       "<div>\n",
       "<style scoped>\n",
       "    .dataframe tbody tr th:only-of-type {\n",
       "        vertical-align: middle;\n",
       "    }\n",
       "\n",
       "    .dataframe tbody tr th {\n",
       "        vertical-align: top;\n",
       "    }\n",
       "\n",
       "    .dataframe thead th {\n",
       "        text-align: right;\n",
       "    }\n",
       "</style>\n",
       "<table border=\"1\" class=\"dataframe\">\n",
       "  <thead>\n",
       "    <tr style=\"text-align: right;\">\n",
       "      <th></th>\n",
       "      <th>pat_id</th>\n",
       "      <th>date_admission</th>\n",
       "      <th>date_discharge</th>\n",
       "      <th>age</th>\n",
       "      <th>day</th>\n",
       "      <th>blood_pressure</th>\n",
       "      <th>respiration_rate</th>\n",
       "      <th>body_temp</th>\n",
       "      <th>go_home?</th>\n",
       "    </tr>\n",
       "  </thead>\n",
       "  <tbody>\n",
       "    <tr>\n",
       "      <th>109047</th>\n",
       "      <td>1568</td>\n",
       "      <td>2016-01-18</td>\n",
       "      <td>2016-01-19</td>\n",
       "      <td>64</td>\n",
       "      <td>2016-01-18</td>\n",
       "      <td>117.266335</td>\n",
       "      <td>8.326612</td>\n",
       "      <td>37.386463</td>\n",
       "      <td>0</td>\n",
       "    </tr>\n",
       "    <tr>\n",
       "      <th>109048</th>\n",
       "      <td>1568</td>\n",
       "      <td>2016-01-18</td>\n",
       "      <td>2016-01-19</td>\n",
       "      <td>64</td>\n",
       "      <td>2016-01-18</td>\n",
       "      <td>109.000000</td>\n",
       "      <td>8.326612</td>\n",
       "      <td>37.386463</td>\n",
       "      <td>0</td>\n",
       "    </tr>\n",
       "    <tr>\n",
       "      <th>109049</th>\n",
       "      <td>1568</td>\n",
       "      <td>2016-01-18</td>\n",
       "      <td>2016-01-19</td>\n",
       "      <td>64</td>\n",
       "      <td>2016-01-19</td>\n",
       "      <td>126.221130</td>\n",
       "      <td>4.000000</td>\n",
       "      <td>37.386463</td>\n",
       "      <td>1</td>\n",
       "    </tr>\n",
       "    <tr>\n",
       "      <th>109050</th>\n",
       "      <td>1568</td>\n",
       "      <td>2016-01-18</td>\n",
       "      <td>2016-01-19</td>\n",
       "      <td>64</td>\n",
       "      <td>2016-01-19</td>\n",
       "      <td>126.221130</td>\n",
       "      <td>6.010000</td>\n",
       "      <td>37.386463</td>\n",
       "      <td>1</td>\n",
       "    </tr>\n",
       "    <tr>\n",
       "      <th>109051</th>\n",
       "      <td>1568</td>\n",
       "      <td>2016-01-18</td>\n",
       "      <td>2016-01-19</td>\n",
       "      <td>64</td>\n",
       "      <td>2016-01-19</td>\n",
       "      <td>157.562180</td>\n",
       "      <td>8.326612</td>\n",
       "      <td>37.386463</td>\n",
       "      <td>1</td>\n",
       "    </tr>\n",
       "  </tbody>\n",
       "</table>\n",
       "</div>"
      ],
      "text/plain": [
       "        pat_id date_admission date_discharge  age         day  blood_pressure  \\\n",
       "109047    1568     2016-01-18     2016-01-19   64  2016-01-18      117.266335   \n",
       "109048    1568     2016-01-18     2016-01-19   64  2016-01-18      109.000000   \n",
       "109049    1568     2016-01-18     2016-01-19   64  2016-01-19      126.221130   \n",
       "109050    1568     2016-01-18     2016-01-19   64  2016-01-19      126.221130   \n",
       "109051    1568     2016-01-18     2016-01-19   64  2016-01-19      157.562180   \n",
       "\n",
       "        respiration_rate  body_temp  go_home?  \n",
       "109047          8.326612  37.386463         0  \n",
       "109048          8.326612  37.386463         0  \n",
       "109049          4.000000  37.386463         1  \n",
       "109050          6.010000  37.386463         1  \n",
       "109051          8.326612  37.386463         1  "
      ]
     },
     "execution_count": 205,
     "metadata": {},
     "output_type": "execute_result"
    }
   ],
   "source": [
    "final_dataset.tail()"
   ]
  },
  {
   "cell_type": "code",
   "execution_count": 206,
   "id": "f4c1a256",
   "metadata": {},
   "outputs": [],
   "source": [
    "#final_dataset.drop(\"date_admission\", axis = 1 , inplace = True)\n",
    "#final_dataset.drop(\"day\", axis = 1 , inplace = True)\n",
    "#final_dataset.drop(\"hour\", axis = 1 , inplace = True)\n",
    "#final_dataset.drop(\"value\", axis = 1 , inplace = True)"
   ]
  },
  {
   "cell_type": "code",
   "execution_count": 207,
   "id": "2fff70a8",
   "metadata": {},
   "outputs": [
    {
     "name": "stdout",
     "output_type": "stream",
     "text": [
      "<class 'pandas.core.frame.DataFrame'>\n",
      "Int64Index: 109052 entries, 0 to 109051\n",
      "Data columns (total 9 columns):\n",
      " #   Column            Non-Null Count   Dtype         \n",
      "---  ------            --------------   -----         \n",
      " 0   pat_id            109052 non-null  int16         \n",
      " 1   date_admission    109052 non-null  datetime64[ns]\n",
      " 2   date_discharge    109052 non-null  object        \n",
      " 3   age               109052 non-null  int8          \n",
      " 4   day               109052 non-null  object        \n",
      " 5   blood_pressure    109052 non-null  float32       \n",
      " 6   respiration_rate  109052 non-null  float32       \n",
      " 7   body_temp         109052 non-null  float32       \n",
      " 8   go_home?          109052 non-null  int64         \n",
      "dtypes: datetime64[ns](1), float32(3), int16(1), int64(1), int8(1), object(2)\n",
      "memory usage: 5.7+ MB\n"
     ]
    }
   ],
   "source": [
    "final_dataset.info()"
   ]
  },
  {
   "cell_type": "code",
   "execution_count": 208,
   "id": "3bec01ce",
   "metadata": {},
   "outputs": [
    {
     "data": {
      "text/html": [
       "<div>\n",
       "<style scoped>\n",
       "    .dataframe tbody tr th:only-of-type {\n",
       "        vertical-align: middle;\n",
       "    }\n",
       "\n",
       "    .dataframe tbody tr th {\n",
       "        vertical-align: top;\n",
       "    }\n",
       "\n",
       "    .dataframe thead th {\n",
       "        text-align: right;\n",
       "    }\n",
       "</style>\n",
       "<table border=\"1\" class=\"dataframe\">\n",
       "  <thead>\n",
       "    <tr style=\"text-align: right;\">\n",
       "      <th></th>\n",
       "      <th>pat_id</th>\n",
       "      <th>date_admission</th>\n",
       "      <th>date_discharge</th>\n",
       "      <th>age</th>\n",
       "      <th>day</th>\n",
       "      <th>blood_pressure</th>\n",
       "      <th>respiration_rate</th>\n",
       "      <th>body_temp</th>\n",
       "      <th>go_home?</th>\n",
       "    </tr>\n",
       "  </thead>\n",
       "  <tbody>\n",
       "    <tr>\n",
       "      <th>0</th>\n",
       "      <td>0</td>\n",
       "      <td>2016-01-05</td>\n",
       "      <td>2016-01-07</td>\n",
       "      <td>35</td>\n",
       "      <td>2016-01-05</td>\n",
       "      <td>104.543182</td>\n",
       "      <td>8.326612</td>\n",
       "      <td>37.386463</td>\n",
       "      <td>0</td>\n",
       "    </tr>\n",
       "    <tr>\n",
       "      <th>1</th>\n",
       "      <td>0</td>\n",
       "      <td>2016-01-05</td>\n",
       "      <td>2016-01-07</td>\n",
       "      <td>35</td>\n",
       "      <td>2016-01-06</td>\n",
       "      <td>129.121765</td>\n",
       "      <td>8.326612</td>\n",
       "      <td>37.386463</td>\n",
       "      <td>0</td>\n",
       "    </tr>\n",
       "    <tr>\n",
       "      <th>2</th>\n",
       "      <td>0</td>\n",
       "      <td>2016-01-05</td>\n",
       "      <td>2016-01-07</td>\n",
       "      <td>35</td>\n",
       "      <td>2016-01-06</td>\n",
       "      <td>126.221130</td>\n",
       "      <td>1.990000</td>\n",
       "      <td>37.386463</td>\n",
       "      <td>0</td>\n",
       "    </tr>\n",
       "    <tr>\n",
       "      <th>3</th>\n",
       "      <td>0</td>\n",
       "      <td>2016-01-05</td>\n",
       "      <td>2016-01-07</td>\n",
       "      <td>35</td>\n",
       "      <td>2016-01-06</td>\n",
       "      <td>123.634338</td>\n",
       "      <td>8.326612</td>\n",
       "      <td>37.386463</td>\n",
       "      <td>0</td>\n",
       "    </tr>\n",
       "    <tr>\n",
       "      <th>4</th>\n",
       "      <td>0</td>\n",
       "      <td>2016-01-05</td>\n",
       "      <td>2016-01-07</td>\n",
       "      <td>35</td>\n",
       "      <td>2016-01-06</td>\n",
       "      <td>126.221130</td>\n",
       "      <td>2.000000</td>\n",
       "      <td>37.386463</td>\n",
       "      <td>0</td>\n",
       "    </tr>\n",
       "  </tbody>\n",
       "</table>\n",
       "</div>"
      ],
      "text/plain": [
       "   pat_id date_admission date_discharge  age         day  blood_pressure  \\\n",
       "0       0     2016-01-05     2016-01-07   35  2016-01-05      104.543182   \n",
       "1       0     2016-01-05     2016-01-07   35  2016-01-06      129.121765   \n",
       "2       0     2016-01-05     2016-01-07   35  2016-01-06      126.221130   \n",
       "3       0     2016-01-05     2016-01-07   35  2016-01-06      123.634338   \n",
       "4       0     2016-01-05     2016-01-07   35  2016-01-06      126.221130   \n",
       "\n",
       "   respiration_rate  body_temp  go_home?  \n",
       "0          8.326612  37.386463         0  \n",
       "1          8.326612  37.386463         0  \n",
       "2          1.990000  37.386463         0  \n",
       "3          8.326612  37.386463         0  \n",
       "4          2.000000  37.386463         0  "
      ]
     },
     "execution_count": 208,
     "metadata": {},
     "output_type": "execute_result"
    }
   ],
   "source": [
    "final_dataset.head()"
   ]
  },
  {
   "cell_type": "code",
   "execution_count": 209,
   "id": "6718140b",
   "metadata": {},
   "outputs": [
    {
     "data": {
      "text/plain": [
       "'from numpy import nan\\nfinal_dataset[\"BP\"] = final_dataset.loc[final_dataset[\\'go_home_day\\'] != 1, \\'blood_pressure\\']\\nfinal_dataset[\"RR\"] = final_dataset.loc[final_dataset[\\'go_home_day\\'] != 1, \\'respiration_rate\\']\\nfinal_dataset[\"BT\"] = final_dataset.loc[final_dataset[\\'go_home_day\\'] != 1, \\'body_temp\\']\\n\\nfinal_dataset[\"BP\"] = final_dataset.loc[final_dataset[\\'go_home_day\\'] == 1, \\'blood_pressure\\']\\nfinal_dataset[\"RR\"] = final_dataset.loc[final_dataset[\\'go_home_day\\'] == 1, \\'respiration_rate\\']\\nfinal_dataset[\"BT\"] = final_dataset.loc[final_dataset[\\'go_home_day\\'] == 1, \\'body_temp\\']'"
      ]
     },
     "execution_count": 209,
     "metadata": {},
     "output_type": "execute_result"
    }
   ],
   "source": [
    "\"\"\"from numpy import nan\n",
    "final_dataset[\"BP\"] = final_dataset.loc[final_dataset['go_home_day'] != 1, 'blood_pressure']\n",
    "final_dataset[\"RR\"] = final_dataset.loc[final_dataset['go_home_day'] != 1, 'respiration_rate']\n",
    "final_dataset[\"BT\"] = final_dataset.loc[final_dataset['go_home_day'] != 1, 'body_temp']\n",
    "\n",
    "final_dataset[\"BP\"] = final_dataset.loc[final_dataset['go_home_day'] == 1, 'blood_pressure']\n",
    "final_dataset[\"RR\"] = final_dataset.loc[final_dataset['go_home_day'] == 1, 'respiration_rate']\n",
    "final_dataset[\"BT\"] = final_dataset.loc[final_dataset['go_home_day'] == 1, 'body_temp']\"\"\""
   ]
  },
  {
   "cell_type": "code",
   "execution_count": 210,
   "id": "fba2e937",
   "metadata": {},
   "outputs": [
    {
     "data": {
      "text/html": [
       "<div>\n",
       "<style scoped>\n",
       "    .dataframe tbody tr th:only-of-type {\n",
       "        vertical-align: middle;\n",
       "    }\n",
       "\n",
       "    .dataframe tbody tr th {\n",
       "        vertical-align: top;\n",
       "    }\n",
       "\n",
       "    .dataframe thead th {\n",
       "        text-align: right;\n",
       "    }\n",
       "</style>\n",
       "<table border=\"1\" class=\"dataframe\">\n",
       "  <thead>\n",
       "    <tr style=\"text-align: right;\">\n",
       "      <th></th>\n",
       "      <th>pat_id</th>\n",
       "      <th>date_admission</th>\n",
       "      <th>date_discharge</th>\n",
       "      <th>age</th>\n",
       "      <th>day</th>\n",
       "      <th>blood_pressure</th>\n",
       "      <th>respiration_rate</th>\n",
       "      <th>body_temp</th>\n",
       "      <th>go_home?</th>\n",
       "    </tr>\n",
       "  </thead>\n",
       "  <tbody>\n",
       "    <tr>\n",
       "      <th>109047</th>\n",
       "      <td>1568</td>\n",
       "      <td>2016-01-18</td>\n",
       "      <td>2016-01-19</td>\n",
       "      <td>64</td>\n",
       "      <td>2016-01-18</td>\n",
       "      <td>117.266335</td>\n",
       "      <td>8.326612</td>\n",
       "      <td>37.386463</td>\n",
       "      <td>0</td>\n",
       "    </tr>\n",
       "    <tr>\n",
       "      <th>109048</th>\n",
       "      <td>1568</td>\n",
       "      <td>2016-01-18</td>\n",
       "      <td>2016-01-19</td>\n",
       "      <td>64</td>\n",
       "      <td>2016-01-18</td>\n",
       "      <td>109.000000</td>\n",
       "      <td>8.326612</td>\n",
       "      <td>37.386463</td>\n",
       "      <td>0</td>\n",
       "    </tr>\n",
       "    <tr>\n",
       "      <th>109049</th>\n",
       "      <td>1568</td>\n",
       "      <td>2016-01-18</td>\n",
       "      <td>2016-01-19</td>\n",
       "      <td>64</td>\n",
       "      <td>2016-01-19</td>\n",
       "      <td>126.221130</td>\n",
       "      <td>4.000000</td>\n",
       "      <td>37.386463</td>\n",
       "      <td>1</td>\n",
       "    </tr>\n",
       "    <tr>\n",
       "      <th>109050</th>\n",
       "      <td>1568</td>\n",
       "      <td>2016-01-18</td>\n",
       "      <td>2016-01-19</td>\n",
       "      <td>64</td>\n",
       "      <td>2016-01-19</td>\n",
       "      <td>126.221130</td>\n",
       "      <td>6.010000</td>\n",
       "      <td>37.386463</td>\n",
       "      <td>1</td>\n",
       "    </tr>\n",
       "    <tr>\n",
       "      <th>109051</th>\n",
       "      <td>1568</td>\n",
       "      <td>2016-01-18</td>\n",
       "      <td>2016-01-19</td>\n",
       "      <td>64</td>\n",
       "      <td>2016-01-19</td>\n",
       "      <td>157.562180</td>\n",
       "      <td>8.326612</td>\n",
       "      <td>37.386463</td>\n",
       "      <td>1</td>\n",
       "    </tr>\n",
       "  </tbody>\n",
       "</table>\n",
       "</div>"
      ],
      "text/plain": [
       "        pat_id date_admission date_discharge  age         day  blood_pressure  \\\n",
       "109047    1568     2016-01-18     2016-01-19   64  2016-01-18      117.266335   \n",
       "109048    1568     2016-01-18     2016-01-19   64  2016-01-18      109.000000   \n",
       "109049    1568     2016-01-18     2016-01-19   64  2016-01-19      126.221130   \n",
       "109050    1568     2016-01-18     2016-01-19   64  2016-01-19      126.221130   \n",
       "109051    1568     2016-01-18     2016-01-19   64  2016-01-19      157.562180   \n",
       "\n",
       "        respiration_rate  body_temp  go_home?  \n",
       "109047          8.326612  37.386463         0  \n",
       "109048          8.326612  37.386463         0  \n",
       "109049          4.000000  37.386463         1  \n",
       "109050          6.010000  37.386463         1  \n",
       "109051          8.326612  37.386463         1  "
      ]
     },
     "execution_count": 210,
     "metadata": {},
     "output_type": "execute_result"
    }
   ],
   "source": [
    "final_dataset.tail()"
   ]
  },
  {
   "cell_type": "code",
   "execution_count": 211,
   "id": "9aa38fcd",
   "metadata": {
    "scrolled": true
   },
   "outputs": [
    {
     "data": {
      "text/html": [
       "<div>\n",
       "<style scoped>\n",
       "    .dataframe tbody tr th:only-of-type {\n",
       "        vertical-align: middle;\n",
       "    }\n",
       "\n",
       "    .dataframe tbody tr th {\n",
       "        vertical-align: top;\n",
       "    }\n",
       "\n",
       "    .dataframe thead th {\n",
       "        text-align: right;\n",
       "    }\n",
       "</style>\n",
       "<table border=\"1\" class=\"dataframe\">\n",
       "  <thead>\n",
       "    <tr style=\"text-align: right;\">\n",
       "      <th></th>\n",
       "      <th>pat_id</th>\n",
       "      <th>date_admission</th>\n",
       "      <th>date_discharge</th>\n",
       "      <th>age</th>\n",
       "      <th>day</th>\n",
       "      <th>blood_pressure</th>\n",
       "      <th>respiration_rate</th>\n",
       "      <th>body_temp</th>\n",
       "      <th>go_home?</th>\n",
       "    </tr>\n",
       "  </thead>\n",
       "  <tbody>\n",
       "    <tr>\n",
       "      <th>0</th>\n",
       "      <td>0</td>\n",
       "      <td>2016-01-05</td>\n",
       "      <td>2016-01-07</td>\n",
       "      <td>35</td>\n",
       "      <td>2016-01-05</td>\n",
       "      <td>104.543182</td>\n",
       "      <td>8.326612</td>\n",
       "      <td>37.386463</td>\n",
       "      <td>0</td>\n",
       "    </tr>\n",
       "    <tr>\n",
       "      <th>1</th>\n",
       "      <td>0</td>\n",
       "      <td>2016-01-05</td>\n",
       "      <td>2016-01-07</td>\n",
       "      <td>35</td>\n",
       "      <td>2016-01-06</td>\n",
       "      <td>129.121765</td>\n",
       "      <td>8.326612</td>\n",
       "      <td>37.386463</td>\n",
       "      <td>0</td>\n",
       "    </tr>\n",
       "    <tr>\n",
       "      <th>2</th>\n",
       "      <td>0</td>\n",
       "      <td>2016-01-05</td>\n",
       "      <td>2016-01-07</td>\n",
       "      <td>35</td>\n",
       "      <td>2016-01-06</td>\n",
       "      <td>126.221130</td>\n",
       "      <td>1.990000</td>\n",
       "      <td>37.386463</td>\n",
       "      <td>0</td>\n",
       "    </tr>\n",
       "    <tr>\n",
       "      <th>3</th>\n",
       "      <td>0</td>\n",
       "      <td>2016-01-05</td>\n",
       "      <td>2016-01-07</td>\n",
       "      <td>35</td>\n",
       "      <td>2016-01-06</td>\n",
       "      <td>123.634338</td>\n",
       "      <td>8.326612</td>\n",
       "      <td>37.386463</td>\n",
       "      <td>0</td>\n",
       "    </tr>\n",
       "    <tr>\n",
       "      <th>4</th>\n",
       "      <td>0</td>\n",
       "      <td>2016-01-05</td>\n",
       "      <td>2016-01-07</td>\n",
       "      <td>35</td>\n",
       "      <td>2016-01-06</td>\n",
       "      <td>126.221130</td>\n",
       "      <td>2.000000</td>\n",
       "      <td>37.386463</td>\n",
       "      <td>0</td>\n",
       "    </tr>\n",
       "  </tbody>\n",
       "</table>\n",
       "</div>"
      ],
      "text/plain": [
       "   pat_id date_admission date_discharge  age         day  blood_pressure  \\\n",
       "0       0     2016-01-05     2016-01-07   35  2016-01-05      104.543182   \n",
       "1       0     2016-01-05     2016-01-07   35  2016-01-06      129.121765   \n",
       "2       0     2016-01-05     2016-01-07   35  2016-01-06      126.221130   \n",
       "3       0     2016-01-05     2016-01-07   35  2016-01-06      123.634338   \n",
       "4       0     2016-01-05     2016-01-07   35  2016-01-06      126.221130   \n",
       "\n",
       "   respiration_rate  body_temp  go_home?  \n",
       "0          8.326612  37.386463         0  \n",
       "1          8.326612  37.386463         0  \n",
       "2          1.990000  37.386463         0  \n",
       "3          8.326612  37.386463         0  \n",
       "4          2.000000  37.386463         0  "
      ]
     },
     "execution_count": 211,
     "metadata": {},
     "output_type": "execute_result"
    }
   ],
   "source": [
    "final_dataset.head()"
   ]
  },
  {
   "cell_type": "code",
   "execution_count": 212,
   "id": "9f251612",
   "metadata": {},
   "outputs": [
    {
     "data": {
      "text/html": [
       "<div>\n",
       "<style scoped>\n",
       "    .dataframe tbody tr th:only-of-type {\n",
       "        vertical-align: middle;\n",
       "    }\n",
       "\n",
       "    .dataframe tbody tr th {\n",
       "        vertical-align: top;\n",
       "    }\n",
       "\n",
       "    .dataframe thead th {\n",
       "        text-align: right;\n",
       "    }\n",
       "</style>\n",
       "<table border=\"1\" class=\"dataframe\">\n",
       "  <thead>\n",
       "    <tr style=\"text-align: right;\">\n",
       "      <th></th>\n",
       "      <th>pat_id</th>\n",
       "      <th>age</th>\n",
       "      <th>blood_pressure</th>\n",
       "      <th>respiration_rate</th>\n",
       "      <th>body_temp</th>\n",
       "      <th>go_home?</th>\n",
       "    </tr>\n",
       "  </thead>\n",
       "  <tbody>\n",
       "    <tr>\n",
       "      <th>count</th>\n",
       "      <td>109052.000000</td>\n",
       "      <td>109052.000000</td>\n",
       "      <td>109052.000000</td>\n",
       "      <td>109052.000000</td>\n",
       "      <td>109052.000000</td>\n",
       "      <td>109052.00000</td>\n",
       "    </tr>\n",
       "    <tr>\n",
       "      <th>mean</th>\n",
       "      <td>872.776519</td>\n",
       "      <td>59.027290</td>\n",
       "      <td>126.167046</td>\n",
       "      <td>8.319889</td>\n",
       "      <td>37.433285</td>\n",
       "      <td>0.26646</td>\n",
       "    </tr>\n",
       "    <tr>\n",
       "      <th>std</th>\n",
       "      <td>440.129090</td>\n",
       "      <td>16.565187</td>\n",
       "      <td>21.643925</td>\n",
       "      <td>2.964234</td>\n",
       "      <td>0.251623</td>\n",
       "      <td>0.44211</td>\n",
       "    </tr>\n",
       "    <tr>\n",
       "      <th>min</th>\n",
       "      <td>0.000000</td>\n",
       "      <td>12.000000</td>\n",
       "      <td>20.000004</td>\n",
       "      <td>-0.010000</td>\n",
       "      <td>31.692310</td>\n",
       "      <td>0.00000</td>\n",
       "    </tr>\n",
       "    <tr>\n",
       "      <th>25%</th>\n",
       "      <td>515.000000</td>\n",
       "      <td>50.000000</td>\n",
       "      <td>116.507965</td>\n",
       "      <td>8.326612</td>\n",
       "      <td>37.386463</td>\n",
       "      <td>0.00000</td>\n",
       "    </tr>\n",
       "    <tr>\n",
       "      <th>50%</th>\n",
       "      <td>908.000000</td>\n",
       "      <td>63.000000</td>\n",
       "      <td>126.221130</td>\n",
       "      <td>8.326612</td>\n",
       "      <td>37.386463</td>\n",
       "      <td>0.00000</td>\n",
       "    </tr>\n",
       "    <tr>\n",
       "      <th>75%</th>\n",
       "      <td>1259.000000</td>\n",
       "      <td>71.000000</td>\n",
       "      <td>128.610130</td>\n",
       "      <td>8.326612</td>\n",
       "      <td>37.386463</td>\n",
       "      <td>1.00000</td>\n",
       "    </tr>\n",
       "    <tr>\n",
       "      <th>max</th>\n",
       "      <td>1568.000000</td>\n",
       "      <td>91.000000</td>\n",
       "      <td>592.000000</td>\n",
       "      <td>149.990005</td>\n",
       "      <td>40.923077</td>\n",
       "      <td>1.00000</td>\n",
       "    </tr>\n",
       "  </tbody>\n",
       "</table>\n",
       "</div>"
      ],
      "text/plain": [
       "              pat_id            age  blood_pressure  respiration_rate  \\\n",
       "count  109052.000000  109052.000000   109052.000000     109052.000000   \n",
       "mean      872.776519      59.027290      126.167046          8.319889   \n",
       "std       440.129090      16.565187       21.643925          2.964234   \n",
       "min         0.000000      12.000000       20.000004         -0.010000   \n",
       "25%       515.000000      50.000000      116.507965          8.326612   \n",
       "50%       908.000000      63.000000      126.221130          8.326612   \n",
       "75%      1259.000000      71.000000      128.610130          8.326612   \n",
       "max      1568.000000      91.000000      592.000000        149.990005   \n",
       "\n",
       "           body_temp      go_home?  \n",
       "count  109052.000000  109052.00000  \n",
       "mean       37.433285       0.26646  \n",
       "std         0.251623       0.44211  \n",
       "min        31.692310       0.00000  \n",
       "25%        37.386463       0.00000  \n",
       "50%        37.386463       0.00000  \n",
       "75%        37.386463       1.00000  \n",
       "max        40.923077       1.00000  "
      ]
     },
     "execution_count": 212,
     "metadata": {},
     "output_type": "execute_result"
    }
   ],
   "source": [
    "final_dataset.describe()"
   ]
  },
  {
   "cell_type": "code",
   "execution_count": 213,
   "id": "2a41b239",
   "metadata": {},
   "outputs": [
    {
     "data": {
      "text/plain": [
       "False    109052\n",
       "Name: age, dtype: int64"
      ]
     },
     "execution_count": 213,
     "metadata": {},
     "output_type": "execute_result"
    }
   ],
   "source": [
    "(final_dataset[\"age\"]<0).value_counts()"
   ]
  },
  {
   "cell_type": "code",
   "execution_count": 214,
   "id": "8728d5b4",
   "metadata": {},
   "outputs": [
    {
     "data": {
      "text/plain": [
       "False    109052\n",
       "Name: blood_pressure, dtype: int64"
      ]
     },
     "execution_count": 214,
     "metadata": {},
     "output_type": "execute_result"
    }
   ],
   "source": [
    "(final_dataset[\"blood_pressure\"]<0).value_counts()"
   ]
  },
  {
   "cell_type": "code",
   "execution_count": 215,
   "id": "eb0c0bb2",
   "metadata": {},
   "outputs": [
    {
     "data": {
      "text/plain": [
       "False    105810\n",
       "True       3242\n",
       "Name: respiration_rate, dtype: int64"
      ]
     },
     "execution_count": 215,
     "metadata": {},
     "output_type": "execute_result"
    }
   ],
   "source": [
    "(final_dataset[\"respiration_rate\"]<3).value_counts()"
   ]
  },
  {
   "cell_type": "code",
   "execution_count": 216,
   "id": "61397798",
   "metadata": {},
   "outputs": [
    {
     "data": {
      "text/plain": [
       "False    108789\n",
       "True        263\n",
       "Name: respiration_rate, dtype: int64"
      ]
     },
     "execution_count": 216,
     "metadata": {},
     "output_type": "execute_result"
    }
   ],
   "source": [
    "(final_dataset[\"respiration_rate\"]<0).value_counts()"
   ]
  },
  {
   "cell_type": "code",
   "execution_count": 217,
   "id": "c7e04a93",
   "metadata": {},
   "outputs": [
    {
     "data": {
      "text/plain": [
       "False    108789\n",
       "Name: respiration_rate, dtype: int64"
      ]
     },
     "execution_count": 217,
     "metadata": {},
     "output_type": "execute_result"
    }
   ],
   "source": [
    "indexNames = final_dataset[final_dataset['respiration_rate'] < 0 ].index\n",
    "final_dataset.drop(indexNames , inplace=True)\n",
    "(final_dataset[\"respiration_rate\"]<0).value_counts()"
   ]
  },
  {
   "cell_type": "code",
   "execution_count": 218,
   "id": "83e6205a",
   "metadata": {},
   "outputs": [
    {
     "data": {
      "text/plain": [
       "False    108789\n",
       "Name: body_temp, dtype: int64"
      ]
     },
     "execution_count": 218,
     "metadata": {},
     "output_type": "execute_result"
    }
   ],
   "source": [
    "(final_dataset[\"body_temp\"]<0).value_counts()"
   ]
  },
  {
   "cell_type": "code",
   "execution_count": null,
   "id": "a5943739",
   "metadata": {},
   "outputs": [],
   "source": []
  },
  {
   "cell_type": "markdown",
   "id": "0e91ad6a",
   "metadata": {},
   "source": [
    "### Normalization (min-max)"
   ]
  },
  {
   "cell_type": "code",
   "execution_count": 219,
   "id": "88fdab13",
   "metadata": {},
   "outputs": [
    {
     "data": {
      "text/html": [
       "<div>\n",
       "<style scoped>\n",
       "    .dataframe tbody tr th:only-of-type {\n",
       "        vertical-align: middle;\n",
       "    }\n",
       "\n",
       "    .dataframe tbody tr th {\n",
       "        vertical-align: top;\n",
       "    }\n",
       "\n",
       "    .dataframe thead th {\n",
       "        text-align: right;\n",
       "    }\n",
       "</style>\n",
       "<table border=\"1\" class=\"dataframe\">\n",
       "  <thead>\n",
       "    <tr style=\"text-align: right;\">\n",
       "      <th></th>\n",
       "      <th>pat_id</th>\n",
       "      <th>date_admission</th>\n",
       "      <th>date_discharge</th>\n",
       "      <th>age</th>\n",
       "      <th>day</th>\n",
       "      <th>blood_pressure</th>\n",
       "      <th>respiration_rate</th>\n",
       "      <th>body_temp</th>\n",
       "      <th>go_home?</th>\n",
       "    </tr>\n",
       "  </thead>\n",
       "  <tbody>\n",
       "    <tr>\n",
       "      <th>0</th>\n",
       "      <td>0</td>\n",
       "      <td>2016-01-05</td>\n",
       "      <td>2016-01-07</td>\n",
       "      <td>0.291139</td>\n",
       "      <td>2016-01-05</td>\n",
       "      <td>0.147803</td>\n",
       "      <td>0.055514</td>\n",
       "      <td>0.616867</td>\n",
       "      <td>0</td>\n",
       "    </tr>\n",
       "    <tr>\n",
       "      <th>1</th>\n",
       "      <td>0</td>\n",
       "      <td>2016-01-05</td>\n",
       "      <td>2016-01-07</td>\n",
       "      <td>0.291139</td>\n",
       "      <td>2016-01-06</td>\n",
       "      <td>0.190772</td>\n",
       "      <td>0.055514</td>\n",
       "      <td>0.616867</td>\n",
       "      <td>0</td>\n",
       "    </tr>\n",
       "    <tr>\n",
       "      <th>2</th>\n",
       "      <td>0</td>\n",
       "      <td>2016-01-05</td>\n",
       "      <td>2016-01-07</td>\n",
       "      <td>0.291139</td>\n",
       "      <td>2016-01-06</td>\n",
       "      <td>0.185701</td>\n",
       "      <td>0.013268</td>\n",
       "      <td>0.616867</td>\n",
       "      <td>0</td>\n",
       "    </tr>\n",
       "    <tr>\n",
       "      <th>3</th>\n",
       "      <td>0</td>\n",
       "      <td>2016-01-05</td>\n",
       "      <td>2016-01-07</td>\n",
       "      <td>0.291139</td>\n",
       "      <td>2016-01-06</td>\n",
       "      <td>0.181179</td>\n",
       "      <td>0.055514</td>\n",
       "      <td>0.616867</td>\n",
       "      <td>0</td>\n",
       "    </tr>\n",
       "    <tr>\n",
       "      <th>4</th>\n",
       "      <td>0</td>\n",
       "      <td>2016-01-05</td>\n",
       "      <td>2016-01-07</td>\n",
       "      <td>0.291139</td>\n",
       "      <td>2016-01-06</td>\n",
       "      <td>0.185701</td>\n",
       "      <td>0.013334</td>\n",
       "      <td>0.616867</td>\n",
       "      <td>0</td>\n",
       "    </tr>\n",
       "    <tr>\n",
       "      <th>...</th>\n",
       "      <td>...</td>\n",
       "      <td>...</td>\n",
       "      <td>...</td>\n",
       "      <td>...</td>\n",
       "      <td>...</td>\n",
       "      <td>...</td>\n",
       "      <td>...</td>\n",
       "      <td>...</td>\n",
       "      <td>...</td>\n",
       "    </tr>\n",
       "    <tr>\n",
       "      <th>109047</th>\n",
       "      <td>1568</td>\n",
       "      <td>2016-01-18</td>\n",
       "      <td>2016-01-19</td>\n",
       "      <td>0.658228</td>\n",
       "      <td>2016-01-18</td>\n",
       "      <td>0.170046</td>\n",
       "      <td>0.055514</td>\n",
       "      <td>0.616867</td>\n",
       "      <td>0</td>\n",
       "    </tr>\n",
       "    <tr>\n",
       "      <th>109048</th>\n",
       "      <td>1568</td>\n",
       "      <td>2016-01-18</td>\n",
       "      <td>2016-01-19</td>\n",
       "      <td>0.658228</td>\n",
       "      <td>2016-01-18</td>\n",
       "      <td>0.155594</td>\n",
       "      <td>0.055514</td>\n",
       "      <td>0.616867</td>\n",
       "      <td>0</td>\n",
       "    </tr>\n",
       "    <tr>\n",
       "      <th>109049</th>\n",
       "      <td>1568</td>\n",
       "      <td>2016-01-18</td>\n",
       "      <td>2016-01-19</td>\n",
       "      <td>0.658228</td>\n",
       "      <td>2016-01-19</td>\n",
       "      <td>0.185701</td>\n",
       "      <td>0.026668</td>\n",
       "      <td>0.616867</td>\n",
       "      <td>1</td>\n",
       "    </tr>\n",
       "    <tr>\n",
       "      <th>109050</th>\n",
       "      <td>1568</td>\n",
       "      <td>2016-01-18</td>\n",
       "      <td>2016-01-19</td>\n",
       "      <td>0.658228</td>\n",
       "      <td>2016-01-19</td>\n",
       "      <td>0.185701</td>\n",
       "      <td>0.040069</td>\n",
       "      <td>0.616867</td>\n",
       "      <td>1</td>\n",
       "    </tr>\n",
       "    <tr>\n",
       "      <th>109051</th>\n",
       "      <td>1568</td>\n",
       "      <td>2016-01-18</td>\n",
       "      <td>2016-01-19</td>\n",
       "      <td>0.658228</td>\n",
       "      <td>2016-01-19</td>\n",
       "      <td>0.240493</td>\n",
       "      <td>0.055514</td>\n",
       "      <td>0.616867</td>\n",
       "      <td>1</td>\n",
       "    </tr>\n",
       "  </tbody>\n",
       "</table>\n",
       "<p>108789 rows × 9 columns</p>\n",
       "</div>"
      ],
      "text/plain": [
       "        pat_id date_admission date_discharge       age         day  \\\n",
       "0            0     2016-01-05     2016-01-07  0.291139  2016-01-05   \n",
       "1            0     2016-01-05     2016-01-07  0.291139  2016-01-06   \n",
       "2            0     2016-01-05     2016-01-07  0.291139  2016-01-06   \n",
       "3            0     2016-01-05     2016-01-07  0.291139  2016-01-06   \n",
       "4            0     2016-01-05     2016-01-07  0.291139  2016-01-06   \n",
       "...        ...            ...            ...       ...         ...   \n",
       "109047    1568     2016-01-18     2016-01-19  0.658228  2016-01-18   \n",
       "109048    1568     2016-01-18     2016-01-19  0.658228  2016-01-18   \n",
       "109049    1568     2016-01-18     2016-01-19  0.658228  2016-01-19   \n",
       "109050    1568     2016-01-18     2016-01-19  0.658228  2016-01-19   \n",
       "109051    1568     2016-01-18     2016-01-19  0.658228  2016-01-19   \n",
       "\n",
       "        blood_pressure  respiration_rate  body_temp  go_home?  \n",
       "0             0.147803          0.055514   0.616867         0  \n",
       "1             0.190772          0.055514   0.616867         0  \n",
       "2             0.185701          0.013268   0.616867         0  \n",
       "3             0.181179          0.055514   0.616867         0  \n",
       "4             0.185701          0.013334   0.616867         0  \n",
       "...                ...               ...        ...       ...  \n",
       "109047        0.170046          0.055514   0.616867         0  \n",
       "109048        0.155594          0.055514   0.616867         0  \n",
       "109049        0.185701          0.026668   0.616867         1  \n",
       "109050        0.185701          0.040069   0.616867         1  \n",
       "109051        0.240493          0.055514   0.616867         1  \n",
       "\n",
       "[108789 rows x 9 columns]"
      ]
     },
     "execution_count": 219,
     "metadata": {},
     "output_type": "execute_result"
    }
   ],
   "source": [
    "df_min_max_scaled = final_dataset.copy()\n",
    "  \n",
    "# apply normalization techniques by Column 1\n",
    "columns = ['age', \"blood_pressure\", \"respiration_rate\", \"body_temp\"]\n",
    "df_min_max_scaled[columns] = (df_min_max_scaled[columns] - df_min_max_scaled[columns].min()) / (df_min_max_scaled[columns].max() - df_min_max_scaled[columns].min())    \n",
    "  \n",
    "# view normalized data\n",
    "df_min_max_scaled"
   ]
  },
  {
   "cell_type": "code",
   "execution_count": 220,
   "id": "fd0b56cd",
   "metadata": {},
   "outputs": [],
   "source": [
    "final_dataset = df_min_max_scaled.copy()"
   ]
  },
  {
   "cell_type": "code",
   "execution_count": 221,
   "id": "c40f7c16",
   "metadata": {},
   "outputs": [
    {
     "data": {
      "text/html": [
       "<div>\n",
       "<style scoped>\n",
       "    .dataframe tbody tr th:only-of-type {\n",
       "        vertical-align: middle;\n",
       "    }\n",
       "\n",
       "    .dataframe tbody tr th {\n",
       "        vertical-align: top;\n",
       "    }\n",
       "\n",
       "    .dataframe thead th {\n",
       "        text-align: right;\n",
       "    }\n",
       "</style>\n",
       "<table border=\"1\" class=\"dataframe\">\n",
       "  <thead>\n",
       "    <tr style=\"text-align: right;\">\n",
       "      <th></th>\n",
       "      <th>pat_id</th>\n",
       "      <th>date_admission</th>\n",
       "      <th>date_discharge</th>\n",
       "      <th>age</th>\n",
       "      <th>day</th>\n",
       "      <th>blood_pressure</th>\n",
       "      <th>respiration_rate</th>\n",
       "      <th>body_temp</th>\n",
       "      <th>go_home?</th>\n",
       "    </tr>\n",
       "  </thead>\n",
       "  <tbody>\n",
       "    <tr>\n",
       "      <th>0</th>\n",
       "      <td>0</td>\n",
       "      <td>2016-01-05</td>\n",
       "      <td>2016-01-07</td>\n",
       "      <td>0.291139</td>\n",
       "      <td>2016-01-05</td>\n",
       "      <td>0.147803</td>\n",
       "      <td>0.055514</td>\n",
       "      <td>0.616867</td>\n",
       "      <td>0</td>\n",
       "    </tr>\n",
       "    <tr>\n",
       "      <th>1</th>\n",
       "      <td>0</td>\n",
       "      <td>2016-01-05</td>\n",
       "      <td>2016-01-07</td>\n",
       "      <td>0.291139</td>\n",
       "      <td>2016-01-06</td>\n",
       "      <td>0.190772</td>\n",
       "      <td>0.055514</td>\n",
       "      <td>0.616867</td>\n",
       "      <td>0</td>\n",
       "    </tr>\n",
       "    <tr>\n",
       "      <th>2</th>\n",
       "      <td>0</td>\n",
       "      <td>2016-01-05</td>\n",
       "      <td>2016-01-07</td>\n",
       "      <td>0.291139</td>\n",
       "      <td>2016-01-06</td>\n",
       "      <td>0.185701</td>\n",
       "      <td>0.013268</td>\n",
       "      <td>0.616867</td>\n",
       "      <td>0</td>\n",
       "    </tr>\n",
       "    <tr>\n",
       "      <th>3</th>\n",
       "      <td>0</td>\n",
       "      <td>2016-01-05</td>\n",
       "      <td>2016-01-07</td>\n",
       "      <td>0.291139</td>\n",
       "      <td>2016-01-06</td>\n",
       "      <td>0.181179</td>\n",
       "      <td>0.055514</td>\n",
       "      <td>0.616867</td>\n",
       "      <td>0</td>\n",
       "    </tr>\n",
       "    <tr>\n",
       "      <th>4</th>\n",
       "      <td>0</td>\n",
       "      <td>2016-01-05</td>\n",
       "      <td>2016-01-07</td>\n",
       "      <td>0.291139</td>\n",
       "      <td>2016-01-06</td>\n",
       "      <td>0.185701</td>\n",
       "      <td>0.013334</td>\n",
       "      <td>0.616867</td>\n",
       "      <td>0</td>\n",
       "    </tr>\n",
       "    <tr>\n",
       "      <th>...</th>\n",
       "      <td>...</td>\n",
       "      <td>...</td>\n",
       "      <td>...</td>\n",
       "      <td>...</td>\n",
       "      <td>...</td>\n",
       "      <td>...</td>\n",
       "      <td>...</td>\n",
       "      <td>...</td>\n",
       "      <td>...</td>\n",
       "    </tr>\n",
       "    <tr>\n",
       "      <th>109047</th>\n",
       "      <td>1568</td>\n",
       "      <td>2016-01-18</td>\n",
       "      <td>2016-01-19</td>\n",
       "      <td>0.658228</td>\n",
       "      <td>2016-01-18</td>\n",
       "      <td>0.170046</td>\n",
       "      <td>0.055514</td>\n",
       "      <td>0.616867</td>\n",
       "      <td>0</td>\n",
       "    </tr>\n",
       "    <tr>\n",
       "      <th>109048</th>\n",
       "      <td>1568</td>\n",
       "      <td>2016-01-18</td>\n",
       "      <td>2016-01-19</td>\n",
       "      <td>0.658228</td>\n",
       "      <td>2016-01-18</td>\n",
       "      <td>0.155594</td>\n",
       "      <td>0.055514</td>\n",
       "      <td>0.616867</td>\n",
       "      <td>0</td>\n",
       "    </tr>\n",
       "    <tr>\n",
       "      <th>109049</th>\n",
       "      <td>1568</td>\n",
       "      <td>2016-01-18</td>\n",
       "      <td>2016-01-19</td>\n",
       "      <td>0.658228</td>\n",
       "      <td>2016-01-19</td>\n",
       "      <td>0.185701</td>\n",
       "      <td>0.026668</td>\n",
       "      <td>0.616867</td>\n",
       "      <td>1</td>\n",
       "    </tr>\n",
       "    <tr>\n",
       "      <th>109050</th>\n",
       "      <td>1568</td>\n",
       "      <td>2016-01-18</td>\n",
       "      <td>2016-01-19</td>\n",
       "      <td>0.658228</td>\n",
       "      <td>2016-01-19</td>\n",
       "      <td>0.185701</td>\n",
       "      <td>0.040069</td>\n",
       "      <td>0.616867</td>\n",
       "      <td>1</td>\n",
       "    </tr>\n",
       "    <tr>\n",
       "      <th>109051</th>\n",
       "      <td>1568</td>\n",
       "      <td>2016-01-18</td>\n",
       "      <td>2016-01-19</td>\n",
       "      <td>0.658228</td>\n",
       "      <td>2016-01-19</td>\n",
       "      <td>0.240493</td>\n",
       "      <td>0.055514</td>\n",
       "      <td>0.616867</td>\n",
       "      <td>1</td>\n",
       "    </tr>\n",
       "  </tbody>\n",
       "</table>\n",
       "<p>108789 rows × 9 columns</p>\n",
       "</div>"
      ],
      "text/plain": [
       "        pat_id date_admission date_discharge       age         day  \\\n",
       "0            0     2016-01-05     2016-01-07  0.291139  2016-01-05   \n",
       "1            0     2016-01-05     2016-01-07  0.291139  2016-01-06   \n",
       "2            0     2016-01-05     2016-01-07  0.291139  2016-01-06   \n",
       "3            0     2016-01-05     2016-01-07  0.291139  2016-01-06   \n",
       "4            0     2016-01-05     2016-01-07  0.291139  2016-01-06   \n",
       "...        ...            ...            ...       ...         ...   \n",
       "109047    1568     2016-01-18     2016-01-19  0.658228  2016-01-18   \n",
       "109048    1568     2016-01-18     2016-01-19  0.658228  2016-01-18   \n",
       "109049    1568     2016-01-18     2016-01-19  0.658228  2016-01-19   \n",
       "109050    1568     2016-01-18     2016-01-19  0.658228  2016-01-19   \n",
       "109051    1568     2016-01-18     2016-01-19  0.658228  2016-01-19   \n",
       "\n",
       "        blood_pressure  respiration_rate  body_temp  go_home?  \n",
       "0             0.147803          0.055514   0.616867         0  \n",
       "1             0.190772          0.055514   0.616867         0  \n",
       "2             0.185701          0.013268   0.616867         0  \n",
       "3             0.181179          0.055514   0.616867         0  \n",
       "4             0.185701          0.013334   0.616867         0  \n",
       "...                ...               ...        ...       ...  \n",
       "109047        0.170046          0.055514   0.616867         0  \n",
       "109048        0.155594          0.055514   0.616867         0  \n",
       "109049        0.185701          0.026668   0.616867         1  \n",
       "109050        0.185701          0.040069   0.616867         1  \n",
       "109051        0.240493          0.055514   0.616867         1  \n",
       "\n",
       "[108789 rows x 9 columns]"
      ]
     },
     "execution_count": 221,
     "metadata": {},
     "output_type": "execute_result"
    }
   ],
   "source": [
    "final_dataset"
   ]
  },
  {
   "cell_type": "code",
   "execution_count": 222,
   "id": "30c2ad7f",
   "metadata": {},
   "outputs": [
    {
     "name": "stdout",
     "output_type": "stream",
     "text": [
      "<class 'pandas.core.frame.DataFrame'>\n",
      "Int64Index: 108789 entries, 0 to 109051\n",
      "Data columns (total 9 columns):\n",
      " #   Column            Non-Null Count   Dtype         \n",
      "---  ------            --------------   -----         \n",
      " 0   pat_id            108789 non-null  int16         \n",
      " 1   date_admission    108789 non-null  datetime64[ns]\n",
      " 2   date_discharge    108789 non-null  object        \n",
      " 3   age               108789 non-null  float32       \n",
      " 4   day               108789 non-null  object        \n",
      " 5   blood_pressure    108789 non-null  float32       \n",
      " 6   respiration_rate  108789 non-null  float32       \n",
      " 7   body_temp         108789 non-null  float32       \n",
      " 8   go_home?          108789 non-null  int64         \n",
      "dtypes: datetime64[ns](1), float32(4), int16(1), int64(1), object(2)\n",
      "memory usage: 6.0+ MB\n"
     ]
    }
   ],
   "source": [
    "final_dataset.info()"
   ]
  },
  {
   "cell_type": "code",
   "execution_count": 223,
   "id": "48910622",
   "metadata": {},
   "outputs": [
    {
     "data": {
      "text/plain": [
       "0.6171212792396545"
      ]
     },
     "execution_count": 223,
     "metadata": {},
     "output_type": "execute_result"
    }
   ],
   "source": [
    "final_dataset[\"body_temp\"].mean()"
   ]
  },
  {
   "cell_type": "markdown",
   "id": "2e4428f8",
   "metadata": {},
   "source": [
    "## Applying SVM\n"
   ]
  },
  {
   "cell_type": "code",
   "execution_count": 224,
   "id": "956d778d",
   "metadata": {},
   "outputs": [
    {
     "data": {
      "text/plain": [
       "array([[0.29113925, 0.14780277, 0.05551444, 0.61686677],\n",
       "       [0.29113925, 0.19077231, 0.05551444, 0.61686677],\n",
       "       [0.29113925, 0.18570128, 0.01326755, 0.61686677],\n",
       "       [0.29113925, 0.18117891, 0.05551444, 0.61686677],\n",
       "       [0.29113925, 0.18570128, 0.01333422, 0.61686677],\n",
       "       [0.29113925, 0.19259702, 0.05551444, 0.61686677],\n",
       "       [0.29113925, 0.20023455, 0.05551444, 0.61686677],\n",
       "       [0.29113925, 0.18570128, 0.01340089, 0.61686677],\n",
       "       [0.29113925, 0.20448631, 0.05551444, 0.61686677],\n",
       "       [0.29113925, 0.1824563 , 0.05551444, 0.61686677],\n",
       "       [0.29113925, 0.18570128, 0.01333422, 0.61686677],\n",
       "       [0.29113925, 0.18100205, 0.05551444, 0.61686677],\n",
       "       [0.29113925, 0.18570128, 0.01326755, 0.61686677],\n",
       "       [0.29113925, 0.19109227, 0.05551444, 0.61686677],\n",
       "       [0.29113925, 0.18910198, 0.05551444, 0.61686677],\n",
       "       [0.29113925, 0.18570128, 0.01340089, 0.61686677],\n",
       "       [0.29113925, 0.1848479 , 0.05551444, 0.61686677],\n",
       "       [0.29113925, 0.18570128, 0.05551444, 0.4666661 ],\n",
       "       [0.29113925, 0.18630712, 0.05551444, 0.61686677],\n",
       "       [0.29113925, 0.18570128, 0.01326755, 0.61686677]], dtype=float32)"
      ]
     },
     "execution_count": 224,
     "metadata": {},
     "output_type": "execute_result"
    }
   ],
   "source": [
    "final_dataset = final_dataset.reset_index()\n",
    "X = np.asarray(final_dataset[['age', 'blood_pressure', 'respiration_rate', 'body_temp']])\n",
    "X[0:20]"
   ]
  },
  {
   "cell_type": "code",
   "execution_count": 225,
   "id": "e2d052c2",
   "metadata": {},
   "outputs": [
    {
     "data": {
      "text/plain": [
       "array([0, 0, 0, 0, 0, 0, 1, 1, 1, 1, 1, 1, 1, 1, 1, 1, 1, 1, 1, 1, 1, 1,\n",
       "       1, 1, 0, 0, 1, 0, 0, 0, 0, 0, 0, 0, 0, 0, 0, 0, 0, 0])"
      ]
     },
     "execution_count": 225,
     "metadata": {},
     "output_type": "execute_result"
    }
   ],
   "source": [
    "y = np.asarray(final_dataset['go_home?'])\n",
    "y [0:40]"
   ]
  },
  {
   "cell_type": "code",
   "execution_count": 226,
   "id": "83c59cef",
   "metadata": {},
   "outputs": [
    {
     "name": "stdout",
     "output_type": "stream",
     "text": [
      "Train set: (87031, 4) (87031,)\n",
      "Test set: (21758, 4) (21758,)\n"
     ]
    }
   ],
   "source": [
    "from sklearn.model_selection import train_test_split\n",
    "X_train, X_test, y_train, y_test = train_test_split( X, y, test_size=0.2, random_state=4)\n",
    "print ('Train set:', X_train.shape,  y_train.shape)\n",
    "print ('Test set:', X_test.shape,  y_test.shape)"
   ]
  },
  {
   "cell_type": "code",
   "execution_count": 227,
   "id": "829af5af",
   "metadata": {},
   "outputs": [
    {
     "data": {
      "text/plain": [
       "SVC()"
      ]
     },
     "execution_count": 227,
     "metadata": {},
     "output_type": "execute_result"
    }
   ],
   "source": [
    "from sklearn import svm\n",
    "clf = svm.SVC(kernel='rbf')\n",
    "clf.fit(X_train, y_train)"
   ]
  },
  {
   "cell_type": "code",
   "execution_count": 228,
   "id": "d89b346e",
   "metadata": {},
   "outputs": [
    {
     "data": {
      "text/plain": [
       "array([0, 0, 0, 0, 0])"
      ]
     },
     "execution_count": 228,
     "metadata": {},
     "output_type": "execute_result"
    }
   ],
   "source": [
    "yhat = clf.predict(X_test)\n",
    "yhat [0:5]"
   ]
  },
  {
   "cell_type": "code",
   "execution_count": 70,
   "id": "74416b1d",
   "metadata": {},
   "outputs": [
    {
     "data": {
      "text/plain": [
       "array([0, 0, 0, 1, 0])"
      ]
     },
     "execution_count": 70,
     "metadata": {},
     "output_type": "execute_result"
    }
   ],
   "source": [
    "yhat = neigh.predict(X_test)\n",
    "yhat[0:5]"
   ]
  },
  {
   "cell_type": "markdown",
   "id": "75f3c1ef",
   "metadata": {},
   "source": [
    "### The Accuracy Metric"
   ]
  },
  {
   "cell_type": "code",
   "execution_count": 232,
   "id": "e0ce0695",
   "metadata": {},
   "outputs": [],
   "source": [
    "from sklearn.metrics import classification_report, confusion_matrix\n",
    "import itertools"
   ]
  },
  {
   "cell_type": "code",
   "execution_count": 236,
   "id": "2864949e",
   "metadata": {},
   "outputs": [],
   "source": [
    "def plot_confusion_matrix(cm, classes,\n",
    "                          normalize=False,\n",
    "                          title='Confusion matrix',\n",
    "                          cmap=plt.cm.Blues):\n",
    "    \"\"\"\n",
    "    This function prints and plots the confusion matrix.\n",
    "    Normalization can be applied by setting `normalize=True`.\n",
    "    \"\"\"\n",
    "    if normalize:\n",
    "        cm = cm.astype('float') / cm.sum(axis=1)[:, np.newaxis]\n",
    "        print(\"Normalized confusion matrix\")\n",
    "    else:\n",
    "        print('Confusion matrix, without normalization')\n",
    "\n",
    "    print(cm)\n",
    "\n",
    "    plt.imshow(cm, interpolation='nearest', cmap=cmap)\n",
    "    plt.title(title)\n",
    "    plt.colorbar()\n",
    "    tick_marks = np.arange(len(classes))\n",
    "    plt.xticks(tick_marks, classes, rotation=45)\n",
    "    plt.yticks(tick_marks, classes)\n",
    "\n",
    "    fmt = '.2f' if normalize else 'd'\n",
    "    thresh = cm.max() / 2.\n",
    "    for i, j in itertools.product(range(cm.shape[0]), range(cm.shape[1])):\n",
    "        plt.text(j, i, format(cm[i, j], fmt),\n",
    "                 horizontalalignment=\"center\",\n",
    "                 color=\"white\" if cm[i, j] > thresh else \"black\")\n",
    "\n",
    "    plt.tight_layout()\n",
    "    plt.ylabel('True label')\n",
    "    plt.xlabel('Predicted label')  "
   ]
  },
  {
   "cell_type": "code",
   "execution_count": 237,
   "id": "cd138521",
   "metadata": {},
   "outputs": [
    {
     "name": "stderr",
     "output_type": "stream",
     "text": [
      "/Users/mostafasaket/opt/anaconda3/lib/python3.9/site-packages/sklearn/metrics/_classification.py:1248: UndefinedMetricWarning: Precision and F-score are ill-defined and being set to 0.0 in labels with no predicted samples. Use `zero_division` parameter to control this behavior.\n",
      "  _warn_prf(average, modifier, msg_start, len(result))\n",
      "/Users/mostafasaket/opt/anaconda3/lib/python3.9/site-packages/sklearn/metrics/_classification.py:1248: UndefinedMetricWarning: Precision and F-score are ill-defined and being set to 0.0 in labels with no predicted samples. Use `zero_division` parameter to control this behavior.\n",
      "  _warn_prf(average, modifier, msg_start, len(result))\n",
      "/Users/mostafasaket/opt/anaconda3/lib/python3.9/site-packages/sklearn/metrics/_classification.py:1248: UndefinedMetricWarning: Precision and F-score are ill-defined and being set to 0.0 in labels with no predicted samples. Use `zero_division` parameter to control this behavior.\n",
      "  _warn_prf(average, modifier, msg_start, len(result))\n"
     ]
    },
    {
     "name": "stdout",
     "output_type": "stream",
     "text": [
      "              precision    recall  f1-score   support\n",
      "\n",
      "           0       0.73      1.00      0.85     15970\n",
      "           1       0.00      0.00      0.00      5788\n",
      "\n",
      "    accuracy                           0.73     21758\n",
      "   macro avg       0.37      0.50      0.42     21758\n",
      "weighted avg       0.54      0.73      0.62     21758\n",
      "\n",
      "Confusion matrix, without normalization\n",
      "[[15970     0]\n",
      " [ 5788     0]]\n"
     ]
    },
    {
     "data": {
      "image/png": "[encoded data removed]",
      "text/plain": [
       "<Figure size 432x288 with 2 Axes>"
      ]
     },
     "metadata": {
      "needs_background": "light"
     },
     "output_type": "display_data"
    }
   ],
   "source": [
    "# Compute confusion matrix\n",
    "cnf_matrix = confusion_matrix(y_test, yhat, labels=[0,1])\n",
    "np.set_printoptions(precision=2)\n",
    "\n",
    "print (classification_report(y_test, yhat))\n",
    "\n",
    "# Plot non-normalized confusion matrix\n",
    "plt.figure()\n",
    "plot_confusion_matrix(cnf_matrix, classes=['Go Home?','Not Go Home!'],normalize= False,  title='Confusion matrix')"
   ]
  },
  {
   "cell_type": "code",
   "execution_count": 238,
   "id": "56f8841d",
   "metadata": {},
   "outputs": [
    {
     "data": {
      "text/plain": [
       "0.6213797157739686"
      ]
     },
     "execution_count": 238,
     "metadata": {},
     "output_type": "execute_result"
    }
   ],
   "source": [
    "from sklearn.metrics import f1_score\n",
    "f1_score(y_test, yhat, average='weighted')"
   ]
  },
  {
   "cell_type": "code",
   "execution_count": 241,
   "id": "c681a380",
   "metadata": {},
   "outputs": [
    {
     "data": {
      "text/plain": [
       "0.7339829028403346"
      ]
     },
     "execution_count": 241,
     "metadata": {},
     "output_type": "execute_result"
    }
   ],
   "source": [
    "# jaccard score metrics\n",
    "from sklearn.metrics import jaccard_score\n",
    "jaccard_score(y_test, yhat,pos_label=0)"
   ]
  },
  {
   "cell_type": "code",
   "execution_count": null,
   "id": "e4f115b9",
   "metadata": {},
   "outputs": [],
   "source": []
  }
 ],
 "metadata": {
  "kernelspec": {
   "display_name": "Python 3 (ipykernel)",
   "language": "python",
   "name": "python3"
  },
  "language_info": {
   "codemirror_mode": {
    "name": "ipython",
    "version": 3
   },
   "file_extension": ".py",
   "mimetype": "text/x-python",
   "name": "python",
   "nbconvert_exporter": "python",
   "pygments_lexer": "ipython3",
   "version": "3.9.7"
  }
 },
 "nbformat": 4,
 "nbformat_minor": 5
}
